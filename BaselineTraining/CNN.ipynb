{
 "cells": [
  {
   "cell_type": "code",
   "execution_count": 1,
   "id": "c773be18",
   "metadata": {},
   "outputs": [],
   "source": [
    "import numpy as np\n",
    "import pandas as pd\n",
    "from keras.models import Sequential\n",
    "from keras.layers import Conv1D, MaxPooling1D, Flatten, Dense, Dropout\n",
    "from sklearn.metrics import confusion_matrix, classification_report"
   ]
  },
  {
   "cell_type": "code",
   "execution_count": 10,
   "id": "9a9d0451",
   "metadata": {},
   "outputs": [],
   "source": [
    "def CNN(path_train,path_test,name,epoch_num):\n",
    "    #Split the data\n",
    "    Train = pd.read_csv(path_train)\n",
    "    Test = pd.read_csv(path_test)\n",
    "    \n",
    "    X_train = Train.iloc[:,:-1]\n",
    "    Y_train = Train.iloc[:,-1]\n",
    "\n",
    "    X_test = Test.iloc[:,:-1]\n",
    "    Y_test = Test.iloc[:,-1]\n",
    "\n",
    "    #binarize the target\n",
    "    Y_train_binary = Y_train.apply(lambda x: 1 if x > 0 else 0)\n",
    "    Y_test_binary = Y_test.apply(lambda x: 1 if x > 0 else 0)\n",
    "\n",
    "    # define the model architecture\n",
    "    model = Sequential()\n",
    "    model.add(Conv1D(filters=256, kernel_size=3, activation='relu', input_shape=(22,1)))\n",
    "    model.add(Conv1D(filters=256, kernel_size=3, activation='relu'))\n",
    "    model.add(MaxPooling1D(pool_size=2))\n",
    "\n",
    "    model.add(Conv1D(filters=512, kernel_size=3, activation='relu'))\n",
    "    model.add(MaxPooling1D(pool_size=2))\n",
    "\n",
    "    model.add(Flatten())\n",
    "    model.add(Dense(512, activation='relu'))\n",
    "    model.add(Dense(2, activation='sigmoid'))\n",
    "\n",
    "    model.compile(loss='sparse_categorical_crossentropy', optimizer='adam', metrics=['accuracy'])\n",
    "    \n",
    "    model.fit(X_train, Y_train_binary, epochs=epoch_num, batch_size=32)\n",
    "    Y_pred = model.predict(X_test).argmax(axis=1)\n",
    "    \n",
    "    cm = confusion_matrix(Y_pred, Y_test_binary)\n",
    "    print(cm)\n",
    "    print(classification_report(Y_test_binary, Y_pred))\n",
    "\n",
    "    model_name = f'{name}_cnn.h5'\n",
    "    model.save(model_name)\n",
    "            \n",
    "    return model"
   ]
  },
  {
   "cell_type": "markdown",
   "id": "011932f6",
   "metadata": {},
   "source": [
    "# Cleveland"
   ]
  },
  {
   "cell_type": "code",
   "execution_count": 15,
   "id": "87e10642",
   "metadata": {
    "scrolled": true
   },
   "outputs": [
    {
     "name": "stdout",
     "output_type": "stream",
     "text": [
      "Epoch 1/20\n",
      "7/7 [==============================] - 1s 15ms/step - loss: 0.6578 - accuracy: 0.6462\n",
      "Epoch 2/20\n",
      "7/7 [==============================] - 0s 15ms/step - loss: 0.4946 - accuracy: 0.7783\n",
      "Epoch 3/20\n",
      "7/7 [==============================] - 0s 15ms/step - loss: 0.5267 - accuracy: 0.7406\n",
      "Epoch 4/20\n",
      "7/7 [==============================] - 0s 17ms/step - loss: 0.4720 - accuracy: 0.7736\n",
      "Epoch 5/20\n",
      "7/7 [==============================] - 0s 17ms/step - loss: 0.4488 - accuracy: 0.7972\n",
      "Epoch 6/20\n",
      "7/7 [==============================] - 0s 15ms/step - loss: 0.4125 - accuracy: 0.8066\n",
      "Epoch 7/20\n",
      "7/7 [==============================] - 0s 15ms/step - loss: 0.3973 - accuracy: 0.8255\n",
      "Epoch 8/20\n",
      "7/7 [==============================] - 0s 15ms/step - loss: 0.3997 - accuracy: 0.7925\n",
      "Epoch 9/20\n",
      "7/7 [==============================] - 0s 15ms/step - loss: 0.4155 - accuracy: 0.8208\n",
      "Epoch 10/20\n",
      "7/7 [==============================] - 0s 15ms/step - loss: 0.3921 - accuracy: 0.8255\n",
      "Epoch 11/20\n",
      "7/7 [==============================] - 0s 15ms/step - loss: 0.3896 - accuracy: 0.8208\n",
      "Epoch 12/20\n",
      "7/7 [==============================] - 0s 15ms/step - loss: 0.3592 - accuracy: 0.8302\n",
      "Epoch 13/20\n",
      "7/7 [==============================] - 0s 18ms/step - loss: 0.3590 - accuracy: 0.8396\n",
      "Epoch 14/20\n",
      "7/7 [==============================] - 0s 17ms/step - loss: 0.3609 - accuracy: 0.8302\n",
      "Epoch 15/20\n",
      "7/7 [==============================] - 0s 17ms/step - loss: 0.3487 - accuracy: 0.8443\n",
      "Epoch 16/20\n",
      "7/7 [==============================] - 0s 17ms/step - loss: 0.3388 - accuracy: 0.8585\n",
      "Epoch 17/20\n",
      "7/7 [==============================] - 0s 16ms/step - loss: 0.3130 - accuracy: 0.8726\n",
      "Epoch 18/20\n",
      "7/7 [==============================] - 0s 15ms/step - loss: 0.3220 - accuracy: 0.8585\n",
      "Epoch 19/20\n",
      "7/7 [==============================] - 0s 15ms/step - loss: 0.3279 - accuracy: 0.8585\n",
      "Epoch 20/20\n",
      "7/7 [==============================] - 0s 15ms/step - loss: 0.3356 - accuracy: 0.8538\n",
      "3/3 [==============================] - 0s 5ms/step\n",
      "[[42  7]\n",
      " [ 9 33]]\n",
      "              precision    recall  f1-score   support\n",
      "\n",
      "           0       0.86      0.82      0.84        51\n",
      "           1       0.79      0.82      0.80        40\n",
      "\n",
      "    accuracy                           0.82        91\n",
      "   macro avg       0.82      0.82      0.82        91\n",
      "weighted avg       0.83      0.82      0.82        91\n",
      "\n"
     ]
    }
   ],
   "source": [
    "path_train = '../TrainTestData/cle_train.csv'\n",
    "path_test = '../TrainTestData/cle_test.csv'\n",
    "model = CNN(path_train,path_test,'cle',20)"
   ]
  },
  {
   "cell_type": "markdown",
   "id": "a6188e68",
   "metadata": {},
   "source": [
    "# Virginia"
   ]
  },
  {
   "cell_type": "code",
   "execution_count": 18,
   "id": "8b19b95f",
   "metadata": {
    "scrolled": true
   },
   "outputs": [
    {
     "name": "stdout",
     "output_type": "stream",
     "text": [
      "Epoch 1/10\n",
      "5/5 [==============================] - 1s 17ms/step - loss: 0.5940 - accuracy: 0.6571\n",
      "Epoch 2/10\n",
      "5/5 [==============================] - 0s 16ms/step - loss: 0.6043 - accuracy: 0.7286\n",
      "Epoch 3/10\n",
      "5/5 [==============================] - 0s 16ms/step - loss: 0.6164 - accuracy: 0.7286\n",
      "Epoch 4/10\n",
      "5/5 [==============================] - 0s 17ms/step - loss: 0.5500 - accuracy: 0.7286\n",
      "Epoch 5/10\n",
      "5/5 [==============================] - 0s 17ms/step - loss: 0.5782 - accuracy: 0.7286\n",
      "Epoch 6/10\n",
      "5/5 [==============================] - 0s 16ms/step - loss: 0.5442 - accuracy: 0.7286\n",
      "Epoch 7/10\n",
      "5/5 [==============================] - 0s 16ms/step - loss: 0.5290 - accuracy: 0.7286\n",
      "Epoch 8/10\n",
      "5/5 [==============================] - 0s 16ms/step - loss: 0.5232 - accuracy: 0.7357\n",
      "Epoch 9/10\n",
      "5/5 [==============================] - 0s 17ms/step - loss: 0.4930 - accuracy: 0.7857\n",
      "Epoch 10/10\n",
      "5/5 [==============================] - 0s 17ms/step - loss: 0.5085 - accuracy: 0.7429\n",
      "2/2 [==============================] - 0s 6ms/step\n",
      "[[ 2  1]\n",
      " [11 46]]\n",
      "              precision    recall  f1-score   support\n",
      "\n",
      "           0       0.67      0.15      0.25        13\n",
      "           1       0.81      0.98      0.88        47\n",
      "\n",
      "    accuracy                           0.80        60\n",
      "   macro avg       0.74      0.57      0.57        60\n",
      "weighted avg       0.78      0.80      0.75        60\n",
      "\n"
     ]
    },
    {
     "data": {
      "text/plain": [
       "<keras.engine.sequential.Sequential at 0x2a8016fc0a0>"
      ]
     },
     "execution_count": 18,
     "metadata": {},
     "output_type": "execute_result"
    }
   ],
   "source": [
    "path_train = '../traintestdata/vir_train.csv'\n",
    "path_test = '../traintestdata/vir_test.csv'\n",
    "CNN(path_train,path_test,'vir',10)"
   ]
  },
  {
   "cell_type": "markdown",
   "id": "6641dfd8",
   "metadata": {},
   "source": [
    "# Hungary"
   ]
  },
  {
   "cell_type": "code",
   "execution_count": 19,
   "id": "bb3836df",
   "metadata": {
    "scrolled": true
   },
   "outputs": [
    {
     "name": "stdout",
     "output_type": "stream",
     "text": [
      "Epoch 1/20\n",
      "7/7 [==============================] - 1s 17ms/step - loss: 0.5834 - accuracy: 0.6829\n",
      "Epoch 2/20\n",
      "7/7 [==============================] - 0s 16ms/step - loss: 0.4537 - accuracy: 0.8195\n",
      "Epoch 3/20\n",
      "7/7 [==============================] - 0s 16ms/step - loss: 0.3622 - accuracy: 0.8390\n",
      "Epoch 4/20\n",
      "7/7 [==============================] - 0s 16ms/step - loss: 0.3377 - accuracy: 0.8390\n",
      "Epoch 5/20\n",
      "7/7 [==============================] - 0s 16ms/step - loss: 0.3444 - accuracy: 0.8390\n",
      "Epoch 6/20\n",
      "7/7 [==============================] - 0s 16ms/step - loss: 0.3080 - accuracy: 0.8390\n",
      "Epoch 7/20\n",
      "7/7 [==============================] - 0s 16ms/step - loss: 0.2820 - accuracy: 0.8732\n",
      "Epoch 8/20\n",
      "7/7 [==============================] - 0s 16ms/step - loss: 0.2972 - accuracy: 0.8585\n",
      "Epoch 9/20\n",
      "7/7 [==============================] - 0s 16ms/step - loss: 0.2647 - accuracy: 0.8829\n",
      "Epoch 10/20\n",
      "7/7 [==============================] - 0s 18ms/step - loss: 0.2800 - accuracy: 0.8780\n",
      "Epoch 11/20\n",
      "7/7 [==============================] - 0s 17ms/step - loss: 0.2635 - accuracy: 0.8829\n",
      "Epoch 12/20\n",
      "7/7 [==============================] - 0s 17ms/step - loss: 0.2312 - accuracy: 0.9024\n",
      "Epoch 13/20\n",
      "7/7 [==============================] - 0s 17ms/step - loss: 0.2394 - accuracy: 0.8976\n",
      "Epoch 14/20\n",
      "7/7 [==============================] - 0s 17ms/step - loss: 0.2183 - accuracy: 0.9024\n",
      "Epoch 15/20\n",
      "7/7 [==============================] - 0s 16ms/step - loss: 0.2116 - accuracy: 0.9171\n",
      "Epoch 16/20\n",
      "7/7 [==============================] - 0s 16ms/step - loss: 0.1975 - accuracy: 0.9073\n",
      "Epoch 17/20\n",
      "7/7 [==============================] - 0s 16ms/step - loss: 0.2076 - accuracy: 0.8976\n",
      "Epoch 18/20\n",
      "7/7 [==============================] - 0s 19ms/step - loss: 0.1782 - accuracy: 0.9317\n",
      "Epoch 19/20\n",
      "7/7 [==============================] - 0s 17ms/step - loss: 0.1753 - accuracy: 0.9366\n",
      "Epoch 20/20\n",
      "7/7 [==============================] - 0s 16ms/step - loss: 0.2705 - accuracy: 0.8878\n",
      "3/3 [==============================] - 0s 5ms/step\n",
      "[[53 13]\n",
      " [ 4 19]]\n",
      "              precision    recall  f1-score   support\n",
      "\n",
      "           0       0.80      0.93      0.86        57\n",
      "           1       0.83      0.59      0.69        32\n",
      "\n",
      "    accuracy                           0.81        89\n",
      "   macro avg       0.81      0.76      0.78        89\n",
      "weighted avg       0.81      0.81      0.80        89\n",
      "\n"
     ]
    },
    {
     "data": {
      "text/plain": [
       "<keras.engine.sequential.Sequential at 0x2a87c529940>"
      ]
     },
     "execution_count": 19,
     "metadata": {},
     "output_type": "execute_result"
    }
   ],
   "source": [
    "path_train = '../traintestdata/hun_train.csv'\n",
    "path_test = '../traintestdata/hun_test.csv'\n",
    "CNN(path_train,path_test,'hun',20)"
   ]
  },
  {
   "cell_type": "markdown",
   "id": "99efa3e1",
   "metadata": {},
   "source": [
    "# Switzerland"
   ]
  },
  {
   "cell_type": "code",
   "execution_count": 20,
   "id": "ad89e6db",
   "metadata": {
    "scrolled": true
   },
   "outputs": [
    {
     "name": "stdout",
     "output_type": "stream",
     "text": [
      "Epoch 1/10\n",
      "3/3 [==============================] - 1s 16ms/step - loss: 0.4898 - accuracy: 0.6047\n",
      "Epoch 2/10\n",
      "3/3 [==============================] - 0s 16ms/step - loss: 0.3398 - accuracy: 0.9302\n",
      "Epoch 3/10\n",
      "3/3 [==============================] - 0s 16ms/step - loss: 0.2791 - accuracy: 0.9302\n",
      "Epoch 4/10\n",
      "3/3 [==============================] - 0s 17ms/step - loss: 0.2465 - accuracy: 0.9302\n",
      "Epoch 5/10\n",
      "3/3 [==============================] - 0s 17ms/step - loss: 0.2521 - accuracy: 0.9302\n",
      "Epoch 6/10\n",
      "3/3 [==============================] - 0s 18ms/step - loss: 0.2375 - accuracy: 0.9302\n",
      "Epoch 7/10\n",
      "3/3 [==============================] - 0s 16ms/step - loss: 0.2429 - accuracy: 0.9302\n",
      "Epoch 8/10\n",
      "3/3 [==============================] - 0s 16ms/step - loss: 0.2232 - accuracy: 0.9302\n",
      "Epoch 9/10\n",
      "3/3 [==============================] - 0s 16ms/step - loss: 0.2187 - accuracy: 0.9302\n",
      "Epoch 10/10\n",
      "3/3 [==============================] - 0s 16ms/step - loss: 0.2168 - accuracy: 0.9302\n",
      "2/2 [==============================] - 0s 2ms/step\n",
      "[[ 0  0]\n",
      " [ 2 35]]\n",
      "              precision    recall  f1-score   support\n",
      "\n",
      "           0       0.00      0.00      0.00         2\n",
      "           1       0.95      1.00      0.97        35\n",
      "\n",
      "    accuracy                           0.95        37\n",
      "   macro avg       0.47      0.50      0.49        37\n",
      "weighted avg       0.89      0.95      0.92        37\n",
      "\n"
     ]
    },
    {
     "name": "stderr",
     "output_type": "stream",
     "text": [
      "D:\\Anaconda\\envs\\GPU\\lib\\site-packages\\sklearn\\metrics\\_classification.py:1344: UndefinedMetricWarning: Precision and F-score are ill-defined and being set to 0.0 in labels with no predicted samples. Use `zero_division` parameter to control this behavior.\n",
      "  _warn_prf(average, modifier, msg_start, len(result))\n",
      "D:\\Anaconda\\envs\\GPU\\lib\\site-packages\\sklearn\\metrics\\_classification.py:1344: UndefinedMetricWarning: Precision and F-score are ill-defined and being set to 0.0 in labels with no predicted samples. Use `zero_division` parameter to control this behavior.\n",
      "  _warn_prf(average, modifier, msg_start, len(result))\n",
      "D:\\Anaconda\\envs\\GPU\\lib\\site-packages\\sklearn\\metrics\\_classification.py:1344: UndefinedMetricWarning: Precision and F-score are ill-defined and being set to 0.0 in labels with no predicted samples. Use `zero_division` parameter to control this behavior.\n",
      "  _warn_prf(average, modifier, msg_start, len(result))\n"
     ]
    },
    {
     "data": {
      "text/plain": [
       "<keras.engine.sequential.Sequential at 0x2a87a30cca0>"
      ]
     },
     "execution_count": 20,
     "metadata": {},
     "output_type": "execute_result"
    }
   ],
   "source": [
    "path_train = '../traintestdata/swi_train.csv'\n",
    "path_test = '../traintestdata/swi_test.csv'\n",
    "CNN(path_train,path_test,'swi',10)"
   ]
  },
  {
   "cell_type": "markdown",
   "id": "d3164806",
   "metadata": {},
   "source": [
    "# Europe"
   ]
  },
  {
   "cell_type": "code",
   "execution_count": 21,
   "id": "709e58d6",
   "metadata": {
    "scrolled": true
   },
   "outputs": [
    {
     "name": "stdout",
     "output_type": "stream",
     "text": [
      "Epoch 1/20\n",
      "10/10 [==============================] - 1s 16ms/step - loss: 0.5656 - accuracy: 0.7766\n",
      "Epoch 2/20\n",
      "10/10 [==============================] - 0s 15ms/step - loss: 0.4451 - accuracy: 0.7973\n",
      "Epoch 3/20\n",
      "10/10 [==============================] - 0s 15ms/step - loss: 0.3587 - accuracy: 0.8557\n",
      "Epoch 4/20\n",
      "10/10 [==============================] - 0s 15ms/step - loss: 0.4230 - accuracy: 0.8041\n",
      "Epoch 5/20\n",
      "10/10 [==============================] - 0s 16ms/step - loss: 0.3398 - accuracy: 0.8419\n",
      "Epoch 6/20\n",
      "10/10 [==============================] - 0s 17ms/step - loss: 0.3606 - accuracy: 0.8247\n",
      "Epoch 7/20\n",
      "10/10 [==============================] - 0s 17ms/step - loss: 0.3160 - accuracy: 0.8557\n",
      "Epoch 8/20\n",
      "10/10 [==============================] - 0s 16ms/step - loss: 0.3589 - accuracy: 0.8522\n",
      "Epoch 9/20\n",
      "10/10 [==============================] - 0s 15ms/step - loss: 0.3177 - accuracy: 0.8522\n",
      "Epoch 10/20\n",
      "10/10 [==============================] - 0s 15ms/step - loss: 0.3033 - accuracy: 0.8660\n",
      "Epoch 11/20\n",
      "10/10 [==============================] - 0s 16ms/step - loss: 0.3279 - accuracy: 0.8454\n",
      "Epoch 12/20\n",
      "10/10 [==============================] - 0s 17ms/step - loss: 0.3518 - accuracy: 0.8419\n",
      "Epoch 13/20\n",
      "10/10 [==============================] - 0s 17ms/step - loss: 0.2951 - accuracy: 0.8625\n",
      "Epoch 14/20\n",
      "10/10 [==============================] - 0s 15ms/step - loss: 0.3271 - accuracy: 0.8694\n",
      "Epoch 15/20\n",
      "10/10 [==============================] - 0s 15ms/step - loss: 0.2978 - accuracy: 0.8866\n",
      "Epoch 16/20\n",
      "10/10 [==============================] - 0s 15ms/step - loss: 0.2735 - accuracy: 0.8797\n",
      "Epoch 17/20\n",
      "10/10 [==============================] - 0s 15ms/step - loss: 0.2706 - accuracy: 0.8729\n",
      "Epoch 18/20\n",
      "10/10 [==============================] - 0s 17ms/step - loss: 0.2418 - accuracy: 0.8866\n",
      "Epoch 19/20\n",
      "10/10 [==============================] - 0s 17ms/step - loss: 0.2775 - accuracy: 0.8969\n",
      "Epoch 20/20\n",
      "10/10 [==============================] - 0s 16ms/step - loss: 0.2737 - accuracy: 0.9003\n",
      "4/4 [==============================] - 0s 5ms/step\n",
      "[[53 12]\n",
      " [ 6 55]]\n",
      "              precision    recall  f1-score   support\n",
      "\n",
      "           0       0.82      0.90      0.85        59\n",
      "           1       0.90      0.82      0.86        67\n",
      "\n",
      "    accuracy                           0.86       126\n",
      "   macro avg       0.86      0.86      0.86       126\n",
      "weighted avg       0.86      0.86      0.86       126\n",
      "\n"
     ]
    },
    {
     "data": {
      "text/plain": [
       "<keras.engine.sequential.Sequential at 0x2a804f13d60>"
      ]
     },
     "execution_count": 21,
     "metadata": {},
     "output_type": "execute_result"
    }
   ],
   "source": [
    "path_train = '../traintestdata/euro_train.csv'\n",
    "path_test = '../traintestdata/euro_test.csv'\n",
    "CNN(path_train,path_test,'eur',20)"
   ]
  },
  {
   "cell_type": "markdown",
   "id": "a7bf0136",
   "metadata": {},
   "source": [
    "# Combined"
   ]
  },
  {
   "cell_type": "code",
   "execution_count": 22,
   "id": "fc9f6787",
   "metadata": {
    "scrolled": true
   },
   "outputs": [
    {
     "name": "stdout",
     "output_type": "stream",
     "text": [
      "Epoch 1/20\n",
      "21/21 [==============================] - 1s 16ms/step - loss: 0.5943 - accuracy: 0.6910\n",
      "Epoch 2/20\n",
      "21/21 [==============================] - 0s 17ms/step - loss: 0.4947 - accuracy: 0.7733\n",
      "Epoch 3/20\n",
      "21/21 [==============================] - 0s 16ms/step - loss: 0.4538 - accuracy: 0.8012\n",
      "Epoch 4/20\n",
      "21/21 [==============================] - 0s 16ms/step - loss: 0.4470 - accuracy: 0.8106\n",
      "Epoch 5/20\n",
      "21/21 [==============================] - 0s 17ms/step - loss: 0.4427 - accuracy: 0.8106\n",
      "Epoch 6/20\n",
      "21/21 [==============================] - 0s 16ms/step - loss: 0.4455 - accuracy: 0.8043\n",
      "Epoch 7/20\n",
      "21/21 [==============================] - 0s 15ms/step - loss: 0.4172 - accuracy: 0.8168\n",
      "Epoch 8/20\n",
      "21/21 [==============================] - 0s 17ms/step - loss: 0.3970 - accuracy: 0.8323\n",
      "Epoch 9/20\n",
      "21/21 [==============================] - 0s 15ms/step - loss: 0.3864 - accuracy: 0.8307\n",
      "Epoch 10/20\n",
      "21/21 [==============================] - 0s 16ms/step - loss: 0.3777 - accuracy: 0.8385\n",
      "Epoch 11/20\n",
      "21/21 [==============================] - 0s 17ms/step - loss: 0.3758 - accuracy: 0.8339\n",
      "Epoch 12/20\n",
      "21/21 [==============================] - 0s 16ms/step - loss: 0.3650 - accuracy: 0.8478\n",
      "Epoch 13/20\n",
      "21/21 [==============================] - 0s 16ms/step - loss: 0.3710 - accuracy: 0.8401\n",
      "Epoch 14/20\n",
      "21/21 [==============================] - 0s 17ms/step - loss: 0.3770 - accuracy: 0.8370\n",
      "Epoch 15/20\n",
      "21/21 [==============================] - 0s 16ms/step - loss: 0.3566 - accuracy: 0.8416\n",
      "Epoch 16/20\n",
      "21/21 [==============================] - 0s 16ms/step - loss: 0.3781 - accuracy: 0.8354\n",
      "Epoch 17/20\n",
      "21/21 [==============================] - 0s 17ms/step - loss: 0.3570 - accuracy: 0.8323\n",
      "Epoch 18/20\n",
      "21/21 [==============================] - 0s 16ms/step - loss: 0.3478 - accuracy: 0.8556\n",
      "Epoch 19/20\n",
      "21/21 [==============================] - 0s 16ms/step - loss: 0.3469 - accuracy: 0.8540\n",
      "Epoch 20/20\n",
      "21/21 [==============================] - 0s 17ms/step - loss: 0.3379 - accuracy: 0.8602\n",
      "9/9 [==============================] - 0s 4ms/step\n",
      "[[106  33]\n",
      " [ 16 121]]\n",
      "              precision    recall  f1-score   support\n",
      "\n",
      "           0       0.76      0.87      0.81       122\n",
      "           1       0.88      0.79      0.83       154\n",
      "\n",
      "    accuracy                           0.82       276\n",
      "   macro avg       0.82      0.83      0.82       276\n",
      "weighted avg       0.83      0.82      0.82       276\n",
      "\n"
     ]
    },
    {
     "data": {
      "text/plain": [
       "<keras.engine.sequential.Sequential at 0x2a80860d310>"
      ]
     },
     "execution_count": 22,
     "metadata": {},
     "output_type": "execute_result"
    }
   ],
   "source": [
    "path_train = '../traintestdata/com_train.csv'\n",
    "path_test = '../traintestdata/com_test.csv'\n",
    "CNN(path_train,path_test,'com',20)"
   ]
  },
  {
   "cell_type": "code",
   "execution_count": 9,
   "id": "444dae5e",
   "metadata": {},
   "outputs": [],
   "source": [
    "path_train = '../traintestdata/euro_train.csv'\n",
    "path_test = '../traintestdata/euro_test.csv'"
   ]
  },
  {
   "cell_type": "code",
   "execution_count": 10,
   "id": "b5a6c03e",
   "metadata": {},
   "outputs": [
    {
     "data": {
      "text/plain": [
       "0      0\n",
       "1      1\n",
       "2      0\n",
       "3      0\n",
       "4      0\n",
       "      ..\n",
       "412    1\n",
       "413    1\n",
       "414    1\n",
       "415    1\n",
       "416    1\n",
       "Name: num, Length: 417, dtype: int64"
      ]
     },
     "execution_count": 10,
     "metadata": {},
     "output_type": "execute_result"
    }
   ],
   "source": [
    "Train = pd.read_csv(path_train)\n",
    "Test = pd.read_csv(path_test)\n",
    "    \n",
    "X_train = Train.iloc[:,:-1]\n",
    "Y_train = Train.iloc[:,-1]\n",
    "\n",
    "X_test = Test.iloc[:,:-1]\n",
    "Y_test = Test.iloc[:,-1]\n",
    "\n",
    "#binarize the target\n",
    "Y_train_binary = Y_train.apply(lambda x: 1 if x > 0 else 0)\n",
    "Y_test_binary = Y_test.apply(lambda x: 1 if x > 0 else 0)\n",
    "\n",
    "data = pd.concat([X_train,X_test])\n",
    "labels = pd.concat([Y_train_binary,Y_test_binary])\n",
    "\n",
    "data = data.reset_index()\n",
    "data = data.drop(['index'],axis = 1)\n",
    "\n",
    "labels = labels.reset_index()\n",
    "labels = labels.iloc[:,-1]\n",
    "\n",
    "labels"
   ]
  },
  {
   "cell_type": "code",
   "execution_count": 11,
   "id": "f7106e18",
   "metadata": {},
   "outputs": [
    {
     "name": "stdout",
     "output_type": "stream",
     "text": [
      "[[ 55  15]\n",
      " [141 206]]\n",
      "              precision    recall  f1-score   support\n",
      "\n",
      "           0       0.79      0.28      0.41       196\n",
      "           1       0.59      0.93      0.73       221\n",
      "\n",
      "    accuracy                           0.63       417\n",
      "   macro avg       0.69      0.61      0.57       417\n",
      "weighted avg       0.68      0.63      0.58       417\n",
      "\n"
     ]
    }
   ],
   "source": [
    "Y_pred = model.predict(data).argmax(axis=1)\n",
    "    \n",
    "cm = confusion_matrix(Y_pred, labels)\n",
    "print(cm)\n",
    "print(classification_report(labels, Y_pred))"
   ]
  },
  {
   "cell_type": "code",
   "execution_count": null,
   "id": "a16d8a0a",
   "metadata": {},
   "outputs": [],
   "source": []
  }
 ],
 "metadata": {
  "kernelspec": {
   "display_name": "Python 3 (ipykernel)",
   "language": "python",
   "name": "python3"
  },
  "language_info": {
   "codemirror_mode": {
    "name": "ipython",
    "version": 3
   },
   "file_extension": ".py",
   "mimetype": "text/x-python",
   "name": "python",
   "nbconvert_exporter": "python",
   "pygments_lexer": "ipython3",
   "version": "3.9.16"
  }
 },
 "nbformat": 4,
 "nbformat_minor": 5
}
