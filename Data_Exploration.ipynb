{
 "cells": [
  {
   "cell_type": "code",
   "execution_count": 1,
   "id": "dc146a97",
   "metadata": {},
   "outputs": [],
   "source": [
    "import pandas as pd\n",
    "import numpy as np"
   ]
  },
  {
   "cell_type": "code",
   "execution_count": 2,
   "id": "685298db",
   "metadata": {},
   "outputs": [
    {
     "data": {
      "text/plain": [
       "num\n",
       "0.00    164\n",
       "0.25     55\n",
       "0.50     36\n",
       "0.75     35\n",
       "1.00     13\n",
       "Name: num, dtype: int64"
      ]
     },
     "execution_count": 2,
     "metadata": {},
     "output_type": "execute_result"
    },
    {
     "data": {
      "image/png": "[encoded data removed]",
      "text/plain": [
       "<Figure size 432x288 with 1 Axes>"
      ]
     },
     "metadata": {
      "needs_background": "light"
     },
     "output_type": "display_data"
    }
   ],
   "source": [
    "df = pd.read_csv('data/Cleveland Imputed Data.csv')\n",
    "df['num'].groupby([df['num']]).count().plot(kind='bar')\n",
    "df['num'].groupby([df['num']]).count()"
   ]
  },
  {
   "cell_type": "code",
   "execution_count": 3,
   "id": "94ac3ec4",
   "metadata": {},
   "outputs": [
    {
     "data": {
      "text/plain": [
       "num\n",
       "0.0    188\n",
       "1.0    106\n",
       "Name: num, dtype: int64"
      ]
     },
     "execution_count": 3,
     "metadata": {},
     "output_type": "execute_result"
    },
    {
     "data": {
      "image/png": "[encoded data removed]",
      "text/plain": [
       "<Figure size 432x288 with 1 Axes>"
      ]
     },
     "metadata": {
      "needs_background": "light"
     },
     "output_type": "display_data"
    }
   ],
   "source": [
    "df = pd.read_csv('data/Hungarian Imputed Data.csv')\n",
    "df['num'].groupby([df['num']]).count().plot(kind='bar')\n",
    "df['num'].groupby([df['num']]).count()"
   ]
  },
  {
   "cell_type": "code",
   "execution_count": 4,
   "id": "bdafbb5c",
   "metadata": {},
   "outputs": [
    {
     "data": {
      "text/plain": [
       "num\n",
       "0.00     8\n",
       "0.25    48\n",
       "0.50    32\n",
       "0.75    30\n",
       "1.00     5\n",
       "Name: num, dtype: int64"
      ]
     },
     "execution_count": 4,
     "metadata": {},
     "output_type": "execute_result"
    },
    {
     "data": {
      "image/png": "[encoded data removed]",
      "text/plain": [
       "<Figure size 432x288 with 1 Axes>"
      ]
     },
     "metadata": {
      "needs_background": "light"
     },
     "output_type": "display_data"
    }
   ],
   "source": [
    "df = pd.read_csv('data/Switzerland Imputed Data.csv')\n",
    "df['num'].groupby([df['num']]).count().plot(kind='bar')\n",
    "df['num'].groupby([df['num']]).count()"
   ]
  },
  {
   "cell_type": "code",
   "execution_count": 5,
   "id": "ffe28428",
   "metadata": {},
   "outputs": [
    {
     "data": {
      "text/plain": [
       "num\n",
       "0.00    51\n",
       "0.25    56\n",
       "0.50    41\n",
       "0.75    42\n",
       "1.00    10\n",
       "Name: num, dtype: int64"
      ]
     },
     "execution_count": 5,
     "metadata": {},
     "output_type": "execute_result"
    },
    {
     "data": {
      "image/png": "[encoded data removed]",
      "text/plain": [
       "<Figure size 432x288 with 1 Axes>"
      ]
     },
     "metadata": {
      "needs_background": "light"
     },
     "output_type": "display_data"
    }
   ],
   "source": [
    "df = pd.read_csv('data/Virginia Imputed Data.csv')\n",
    "df['num'].groupby([df['num']]).count().plot(kind='bar')\n",
    "df['num'].groupby([df['num']]).count()"
   ]
  },
  {
   "cell_type": "code",
   "execution_count": 6,
   "id": "058388c8",
   "metadata": {},
   "outputs": [],
   "source": [
    "#Combine european data"
   ]
  },
  {
   "cell_type": "code",
   "execution_count": 7,
   "id": "801cb603",
   "metadata": {},
   "outputs": [],
   "source": [
    "hungarian_train = pd.read_csv('traintestdata/hun_train.csv')\n",
    "hungarian_test = pd.read_csv('traintestdata/hun_test.csv')\n",
    "\n",
    "switzerland_train = pd.read_csv('traintestdata/swi_train.csv')\n",
    "switzerland_test = pd.read_csv('traintestdata/swi_test.csv')"
   ]
  },
  {
   "cell_type": "code",
   "execution_count": 8,
   "id": "70f79fa4",
   "metadata": {},
   "outputs": [
    {
     "data": {
      "text/plain": [
       "num\n",
       "0.00     2\n",
       "0.25    14\n",
       "0.50     9\n",
       "0.75     9\n",
       "1.00     3\n",
       "Name: num, dtype: int64"
      ]
     },
     "execution_count": 8,
     "metadata": {},
     "output_type": "execute_result"
    },
    {
     "data": {
      "image/png": "[encoded data removed]",
      "text/plain": [
       "<Figure size 432x288 with 1 Axes>"
      ]
     },
     "metadata": {
      "needs_background": "light"
     },
     "output_type": "display_data"
    }
   ],
   "source": [
    "switzerland_test['num'].groupby([switzerland_test['num']]).count().plot(kind='bar')\n",
    "switzerland_test['num'].groupby([switzerland_test['num']]).count()"
   ]
  },
  {
   "cell_type": "code",
   "execution_count": 9,
   "id": "6ef9f102",
   "metadata": {},
   "outputs": [
    {
     "data": {
      "text/plain": [
       "num\n",
       "0.00     6\n",
       "0.25    34\n",
       "0.50    23\n",
       "0.75    21\n",
       "1.00     2\n",
       "Name: num, dtype: int64"
      ]
     },
     "execution_count": 9,
     "metadata": {},
     "output_type": "execute_result"
    },
    {
     "data": {
      "image/png": "[encoded data removed]",
      "text/plain": [
       "<Figure size 432x288 with 1 Axes>"
      ]
     },
     "metadata": {
      "needs_background": "light"
     },
     "output_type": "display_data"
    }
   ],
   "source": [
    "switzerland_train['num'].groupby([switzerland_train['num']]).count().plot(kind='bar')\n",
    "switzerland_train['num'].groupby([switzerland_train['num']]).count()"
   ]
  },
  {
   "cell_type": "code",
   "execution_count": 10,
   "id": "916a6b7f",
   "metadata": {},
   "outputs": [
    {
     "data": {
      "image/png": "[encoded data removed]",
      "text/plain": [
       "<Figure size 432x288 with 1 Axes>"
      ]
     },
     "metadata": {
      "needs_background": "light"
     },
     "output_type": "display_data"
    }
   ],
   "source": [
    "euro_train = pd.concat([hungarian_train,switzerland_train])\n",
    "euro_train['num'].groupby([euro_train['num']]).count().plot(kind='bar')\n",
    "euro_train['num'].groupby([euro_train['num']]).count()\n",
    "euro_train.to_csv('euro_train.csv',index = False)"
   ]
  },
  {
   "cell_type": "code",
   "execution_count": 11,
   "id": "08f08847",
   "metadata": {},
   "outputs": [
    {
     "data": {
      "image/png": "[encoded data removed]",
      "text/plain": [
       "<Figure size 432x288 with 1 Axes>"
      ]
     },
     "metadata": {
      "needs_background": "light"
     },
     "output_type": "display_data"
    }
   ],
   "source": [
    "euro_test = pd.concat([hungarian_test,switzerland_test])\n",
    "euro_test['num'].groupby([euro_test['num']]).count().plot(kind='bar')\n",
    "euro_test['num'].groupby([euro_test['num']]).count()\n",
    "euro_test.to_csv('euro_test.csv',index = False)"
   ]
  },
  {
   "cell_type": "code",
   "execution_count": null,
   "id": "7cfc591d",
   "metadata": {},
   "outputs": [],
   "source": []
  }
 ],
 "metadata": {
  "kernelspec": {
   "display_name": "Python 3 (ipykernel)",
   "language": "python",
   "name": "python3"
  },
  "language_info": {
   "codemirror_mode": {
    "name": "ipython",
    "version": 3
   },
   "file_extension": ".py",
   "mimetype": "text/x-python",
   "name": "python",
   "nbconvert_exporter": "python",
   "pygments_lexer": "ipython3",
   "version": "3.9.16"
  }
 },
 "nbformat": 4,
 "nbformat_minor": 5
}
