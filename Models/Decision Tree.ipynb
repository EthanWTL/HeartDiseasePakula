{
 "cells": [
  {
   "cell_type": "code",
   "execution_count": 1,
   "id": "a4ab5c3a",
   "metadata": {},
   "outputs": [],
   "source": [
    "import numpy as np \n",
    "import pandas as pd\n",
    "import matplotlib.pyplot as plt\n",
    "from sklearn import tree\n",
    "from sklearn.model_selection import train_test_split\n",
    "from sklearn.metrics import confusion_matrix, classification_report"
   ]
  },
  {
   "cell_type": "code",
   "execution_count": 2,
   "id": "2f68fb66",
   "metadata": {},
   "outputs": [],
   "source": [
    "def dt(path_train,path_test):\n",
    "    #Split the data\n",
    "    Train = pd.read_csv(path_train)\n",
    "    Test = pd.read_csv(path_test)\n",
    "    \n",
    "    X_train = Train.iloc[:,:-1]\n",
    "    Y_train = Train.iloc[:,-1]\n",
    "\n",
    "    X_test = Test.iloc[:,:-1]\n",
    "    Y_test = Test.iloc[:,-1]\n",
    "\n",
    "    #binarize the target\n",
    "    Y_train_binary = Y_train.apply(lambda x: 1 if x > 0 else 0)\n",
    "    Y_test_binary = Y_test.apply(lambda x: 1 if x > 0 else 0)\n",
    "\n",
    "    #Desision Tree\n",
    "    clf = tree.DecisionTreeClassifier(criterion='entropy')\n",
    "    clf.fit(X_train, Y_train_binary)\n",
    "    Y_predictions = clf.predict(X_test)\n",
    "    cm = confusion_matrix(Y_predictions, Y_test_binary)\n",
    "    print(\"Confusion Matrix is:\")\n",
    "    print(cm)\n",
    "    def accuracy(confusion_matrix):\n",
    "        diagonal_sum = confusion_matrix.trace()\n",
    "        sum_of_all_elements = confusion_matrix.sum()\n",
    "        return diagonal_sum / sum_of_all_elements\n",
    "    print(\"Accracy is : \" + str(accuracy(cm)))\n",
    "    \n",
    "    print(\"Report\")\n",
    "    print(classification_report(Y_test_binary, Y_predictions))\n",
    "    \n",
    "    #Visualization of the tree\n",
    "    plt.figure(figsize=(25,20))\n",
    "    tree.plot_tree(regressor, filled=True, fontsize=10, max_depth= None,feature_names = list(X_train.columns), class_names = True)\n",
    "    plt.show()"
   ]
  },
  {
   "cell_type": "markdown",
   "id": "5ba72269",
   "metadata": {},
   "source": [
    "# Cleveland"
   ]
  },
  {
   "cell_type": "code",
   "execution_count": 3,
   "id": "cb00f441",
   "metadata": {},
   "outputs": [
    {
     "name": "stdout",
     "output_type": "stream",
     "text": [
      "Confusion Matrix is:\n",
      "[[35  5]\n",
      " [16 35]]\n",
      "Accracy is : 0.7692307692307693\n",
      "Report\n",
      "              precision    recall  f1-score   support\n",
      "\n",
      "           0       0.88      0.69      0.77        51\n",
      "           1       0.69      0.88      0.77        40\n",
      "\n",
      "    accuracy                           0.77        91\n",
      "   macro avg       0.78      0.78      0.77        91\n",
      "weighted avg       0.79      0.77      0.77        91\n",
      "\n"
     ]
    },
    {
     "ename": "NameError",
     "evalue": "name 'regressor' is not defined",
     "output_type": "error",
     "traceback": [
      "\u001b[1;31m---------------------------------------------------------------------------\u001b[0m",
      "\u001b[1;31mNameError\u001b[0m                                 Traceback (most recent call last)",
      "Input \u001b[1;32mIn [3]\u001b[0m, in \u001b[0;36m<module>\u001b[1;34m\u001b[0m\n\u001b[0;32m      1\u001b[0m path_train \u001b[38;5;241m=\u001b[39m \u001b[38;5;124m'\u001b[39m\u001b[38;5;124m../traintestdata/cle_train.csv\u001b[39m\u001b[38;5;124m'\u001b[39m\n\u001b[0;32m      2\u001b[0m path_test \u001b[38;5;241m=\u001b[39m \u001b[38;5;124m'\u001b[39m\u001b[38;5;124m../traintestdata/cle_test.csv\u001b[39m\u001b[38;5;124m'\u001b[39m\n\u001b[1;32m----> 3\u001b[0m \u001b[43mdt\u001b[49m\u001b[43m(\u001b[49m\u001b[43mpath_train\u001b[49m\u001b[43m,\u001b[49m\u001b[43mpath_test\u001b[49m\u001b[43m)\u001b[49m\n",
      "Input \u001b[1;32mIn [2]\u001b[0m, in \u001b[0;36mdt\u001b[1;34m(path_train, path_test)\u001b[0m\n\u001b[0;32m     32\u001b[0m \u001b[38;5;66;03m#Visualization of the tree\u001b[39;00m\n\u001b[0;32m     33\u001b[0m plt\u001b[38;5;241m.\u001b[39mfigure(figsize\u001b[38;5;241m=\u001b[39m(\u001b[38;5;241m25\u001b[39m,\u001b[38;5;241m20\u001b[39m))\n\u001b[1;32m---> 34\u001b[0m tree\u001b[38;5;241m.\u001b[39mplot_tree(\u001b[43mregressor\u001b[49m, filled\u001b[38;5;241m=\u001b[39m\u001b[38;5;28;01mTrue\u001b[39;00m, fontsize\u001b[38;5;241m=\u001b[39m\u001b[38;5;241m10\u001b[39m, max_depth\u001b[38;5;241m=\u001b[39m \u001b[38;5;28;01mNone\u001b[39;00m,feature_names \u001b[38;5;241m=\u001b[39m \u001b[38;5;28mlist\u001b[39m(X_train\u001b[38;5;241m.\u001b[39mcolumns), class_names \u001b[38;5;241m=\u001b[39m \u001b[38;5;28;01mTrue\u001b[39;00m)\n\u001b[0;32m     35\u001b[0m plt\u001b[38;5;241m.\u001b[39mshow()\n",
      "\u001b[1;31mNameError\u001b[0m: name 'regressor' is not defined"
     ]
    },
    {
     "data": {
      "text/plain": [
       "<Figure size 1800x1440 with 0 Axes>"
      ]
     },
     "metadata": {},
     "output_type": "display_data"
    }
   ],
   "source": [
    "path_train = '../traintestdata/cle_train.csv'\n",
    "path_test = '../traintestdata/cle_test.csv'\n",
    "dt(path_train,path_test)"
   ]
  },
  {
   "cell_type": "markdown",
   "id": "84d9433c",
   "metadata": {},
   "source": [
    "# Hungarian"
   ]
  },
  {
   "cell_type": "code",
   "execution_count": null,
   "id": "a0297d17",
   "metadata": {},
   "outputs": [],
   "source": [
    "path_train = '../traintestdata/hun_train.csv'\n",
    "path_test = '../traintestdata/hun_test.csv'\n",
    "dt(path_train,path_test)"
   ]
  },
  {
   "cell_type": "markdown",
   "id": "92bdf0bc",
   "metadata": {},
   "source": [
    "# Switzerland"
   ]
  },
  {
   "cell_type": "code",
   "execution_count": null,
   "id": "e691a842",
   "metadata": {},
   "outputs": [],
   "source": [
    "path_train = '../traintestdata/swi_train.csv'\n",
    "path_test = '../traintestdata/swi_test.csv'\n",
    "dt(path_train,path_test)"
   ]
  },
  {
   "cell_type": "markdown",
   "id": "cc78ecaa",
   "metadata": {},
   "source": [
    "# European"
   ]
  },
  {
   "cell_type": "code",
   "execution_count": null,
   "id": "e2b8afec",
   "metadata": {},
   "outputs": [],
   "source": [
    "path_train = '../traintestdata/euro_train.csv'\n",
    "path_test = '../traintestdata/euro_test.csv'\n",
    "dt(path_train,path_test)"
   ]
  },
  {
   "cell_type": "markdown",
   "id": "b8d71e16",
   "metadata": {},
   "source": [
    "# Virginia"
   ]
  },
  {
   "cell_type": "code",
   "execution_count": null,
   "id": "a6e3a530",
   "metadata": {
    "scrolled": false
   },
   "outputs": [],
   "source": [
    "path_train = '../traintestdata/vir_train.csv'\n",
    "path_test = '../traintestdata/vir_test.csv'\n",
    "dt(path_train,path_test)"
   ]
  },
  {
   "cell_type": "markdown",
   "id": "ff069156",
   "metadata": {},
   "source": [
    "# Combined "
   ]
  },
  {
   "cell_type": "code",
   "execution_count": null,
   "id": "d8579739",
   "metadata": {},
   "outputs": [],
   "source": [
    "path_train = '../traintestdata/com_train.csv'\n",
    "path_test = '../traintestdata/com_test.csv'\n",
    "dt(path_train,path_test)"
   ]
  },
  {
   "cell_type": "code",
   "execution_count": null,
   "id": "37e4054e",
   "metadata": {},
   "outputs": [],
   "source": []
  }
 ],
 "metadata": {
  "kernelspec": {
   "display_name": "Python 3 (ipykernel)",
   "language": "python",
   "name": "python3"
  },
  "language_info": {
   "codemirror_mode": {
    "name": "ipython",
    "version": 3
   },
   "file_extension": ".py",
   "mimetype": "text/x-python",
   "name": "python",
   "nbconvert_exporter": "python",
   "pygments_lexer": "ipython3",
   "version": "3.8.3"
  }
 },
 "nbformat": 4,
 "nbformat_minor": 5
}
