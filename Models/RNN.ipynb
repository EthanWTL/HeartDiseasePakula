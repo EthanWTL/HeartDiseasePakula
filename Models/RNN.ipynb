{
 "cells": [
  {
   "cell_type": "code",
   "execution_count": 1,
   "id": "c773be18",
   "metadata": {},
   "outputs": [],
   "source": [
    "import numpy as np\n",
    "import pandas as pd\n",
    "from keras.models import Sequential\n",
    "from keras.layers import Dense, SimpleRNN\n",
    "from sklearn.metrics import confusion_matrix, classification_report"
   ]
  },
  {
   "cell_type": "code",
   "execution_count": 2,
   "id": "9a9d0451",
   "metadata": {},
   "outputs": [],
   "source": [
    "def RNN(path_train,path_test):\n",
    "    #Split the data\n",
    "    Train = pd.read_csv(path_train)\n",
    "    Test = pd.read_csv(path_test)\n",
    "    \n",
    "    X_train = Train.iloc[:,:-1]\n",
    "    Y_train = Train.iloc[:,-1]\n",
    "\n",
    "    X_test = Test.iloc[:,:-1]\n",
    "    Y_test = Test.iloc[:,-1]\n",
    "\n",
    "    #binarize the target\n",
    "    Y_train_binary = Y_train.apply(lambda x: 1 if x > 0 else 0)\n",
    "    Y_test_binary = Y_test.apply(lambda x: 1 if x > 0 else 0)\n",
    "\n",
    "    # define the model architecture\n",
    "    model = Sequential()\n",
    "    model.add(SimpleRNN(units=64, return_sequences=True, input_shape=(22, 1)))\n",
    "    model.add(SimpleRNN(units=32, return_sequences=True))\n",
    "    model.add(SimpleRNN(units=16))\n",
    "    model.add(Dense(units=2, activation='sigmoid'))\n",
    "    model.compile(optimizer='adam', loss='sparse_categorical_crossentropy', metrics=['accuracy'])\n",
    "    \n",
    "    model.fit(X_train, Y_train_binary, epochs=10, batch_size=32)\n",
    "    Y_pred = model.predict(X_test).argmax(axis=1)\n",
    "    \n",
    "    cm = confusion_matrix(Y_pred, Y_test_binary)\n",
    "    print(cm)\n",
    "    print(classification_report(Y_test_binary, Y_pred))"
   ]
  },
  {
   "cell_type": "markdown",
   "id": "011932f6",
   "metadata": {},
   "source": [
    "# Cleveland"
   ]
  },
  {
   "cell_type": "code",
   "execution_count": 3,
   "id": "87e10642",
   "metadata": {
    "scrolled": true
   },
   "outputs": [
    {
     "name": "stdout",
     "output_type": "stream",
     "text": [
      "Epoch 1/10\n",
      "7/7 [==============================] - 2s 15ms/step - loss: 0.6124 - accuracy: 0.6179\n",
      "Epoch 2/10\n",
      "7/7 [==============================] - 0s 14ms/step - loss: 0.4268 - accuracy: 0.7830\n",
      "Epoch 3/10\n",
      "7/7 [==============================] - 0s 15ms/step - loss: 0.4073 - accuracy: 0.8066\n",
      "Epoch 4/10\n",
      "7/7 [==============================] - 0s 14ms/step - loss: 0.3824 - accuracy: 0.8396\n",
      "Epoch 5/10\n",
      "7/7 [==============================] - 0s 14ms/step - loss: 0.3699 - accuracy: 0.8160\n",
      "Epoch 6/10\n",
      "7/7 [==============================] - 0s 14ms/step - loss: 0.3493 - accuracy: 0.8302\n",
      "Epoch 7/10\n",
      "7/7 [==============================] - 0s 16ms/step - loss: 0.3354 - accuracy: 0.8443\n",
      "Epoch 8/10\n",
      "7/7 [==============================] - 0s 14ms/step - loss: 0.3289 - accuracy: 0.8538\n",
      "Epoch 9/10\n",
      "7/7 [==============================] - 0s 13ms/step - loss: 0.3183 - accuracy: 0.8679\n",
      "Epoch 10/10\n",
      "7/7 [==============================] - 0s 14ms/step - loss: 0.3180 - accuracy: 0.8491\n",
      "[[38  6]\n",
      " [13 34]]\n",
      "              precision    recall  f1-score   support\n",
      "\n",
      "           0       0.86      0.75      0.80        51\n",
      "           1       0.72      0.85      0.78        40\n",
      "\n",
      "    accuracy                           0.79        91\n",
      "   macro avg       0.79      0.80      0.79        91\n",
      "weighted avg       0.80      0.79      0.79        91\n",
      "\n"
     ]
    }
   ],
   "source": [
    "path_train = '../traintestdata/cle_train.csv'\n",
    "path_test = '../traintestdata/cle_test.csv'\n",
    "RNN(path_train,path_test)"
   ]
  },
  {
   "cell_type": "markdown",
   "id": "a6188e68",
   "metadata": {},
   "source": [
    "# Virginia"
   ]
  },
  {
   "cell_type": "code",
   "execution_count": 4,
   "id": "8b19b95f",
   "metadata": {
    "scrolled": true
   },
   "outputs": [
    {
     "name": "stdout",
     "output_type": "stream",
     "text": [
      "Epoch 1/10\n",
      "5/5 [==============================] - 2s 16ms/step - loss: 0.6452 - accuracy: 0.6786\n",
      "Epoch 2/10\n",
      "5/5 [==============================] - 0s 16ms/step - loss: 0.5450 - accuracy: 0.7214\n",
      "Epoch 3/10\n",
      "5/5 [==============================] - 0s 16ms/step - loss: 0.5090 - accuracy: 0.7429\n",
      "Epoch 4/10\n",
      "5/5 [==============================] - 0s 16ms/step - loss: 0.4945 - accuracy: 0.7500\n",
      "Epoch 5/10\n",
      "5/5 [==============================] - 0s 15ms/step - loss: 0.4753 - accuracy: 0.7643\n",
      "Epoch 6/10\n",
      "5/5 [==============================] - 0s 15ms/step - loss: 0.4644 - accuracy: 0.7786\n",
      "Epoch 7/10\n",
      "5/5 [==============================] - 0s 15ms/step - loss: 0.4498 - accuracy: 0.7643\n",
      "Epoch 8/10\n",
      "5/5 [==============================] - 0s 15ms/step - loss: 0.4371 - accuracy: 0.8071\n",
      "Epoch 9/10\n",
      "5/5 [==============================] - 0s 15ms/step - loss: 0.4315 - accuracy: 0.8000\n",
      "Epoch 10/10\n",
      "5/5 [==============================] - 0s 14ms/step - loss: 0.4157 - accuracy: 0.8071\n",
      "[[ 3  4]\n",
      " [10 43]]\n",
      "              precision    recall  f1-score   support\n",
      "\n",
      "           0       0.43      0.23      0.30        13\n",
      "           1       0.81      0.91      0.86        47\n",
      "\n",
      "    accuracy                           0.77        60\n",
      "   macro avg       0.62      0.57      0.58        60\n",
      "weighted avg       0.73      0.77      0.74        60\n",
      "\n"
     ]
    }
   ],
   "source": [
    "path_train = '../traintestdata/vir_train.csv'\n",
    "path_test = '../traintestdata/vir_test.csv'\n",
    "RNN(path_train,path_test)"
   ]
  },
  {
   "cell_type": "markdown",
   "id": "d3164806",
   "metadata": {},
   "source": [
    "# Europe"
   ]
  },
  {
   "cell_type": "code",
   "execution_count": 5,
   "id": "709e58d6",
   "metadata": {
    "scrolled": true
   },
   "outputs": [
    {
     "name": "stdout",
     "output_type": "stream",
     "text": [
      "Epoch 1/10\n",
      "10/10 [==============================] - 2s 15ms/step - loss: 0.5500 - accuracy: 0.7045\n",
      "Epoch 2/10\n",
      "10/10 [==============================] - 0s 14ms/step - loss: 0.3974 - accuracy: 0.8144\n",
      "Epoch 3/10\n",
      "10/10 [==============================] - 0s 15ms/step - loss: 0.3629 - accuracy: 0.8385\n",
      "Epoch 4/10\n",
      "10/10 [==============================] - 0s 14ms/step - loss: 0.3476 - accuracy: 0.8625\n",
      "Epoch 5/10\n",
      "10/10 [==============================] - 0s 42ms/step - loss: 0.3156 - accuracy: 0.8763\n",
      "Epoch 6/10\n",
      "10/10 [==============================] - 0s 14ms/step - loss: 0.3006 - accuracy: 0.8763\n",
      "Epoch 7/10\n",
      "10/10 [==============================] - 0s 14ms/step - loss: 0.2957 - accuracy: 0.8660\n",
      "Epoch 8/10\n",
      "10/10 [==============================] - 0s 14ms/step - loss: 0.3399 - accuracy: 0.8522\n",
      "Epoch 9/10\n",
      "10/10 [==============================] - 0s 14ms/step - loss: 0.3032 - accuracy: 0.8729\n",
      "Epoch 10/10\n",
      "10/10 [==============================] - 0s 14ms/step - loss: 0.3437 - accuracy: 0.8557\n",
      "[[50  7]\n",
      " [ 9 60]]\n",
      "              precision    recall  f1-score   support\n",
      "\n",
      "           0       0.88      0.85      0.86        59\n",
      "           1       0.87      0.90      0.88        67\n",
      "\n",
      "    accuracy                           0.87       126\n",
      "   macro avg       0.87      0.87      0.87       126\n",
      "weighted avg       0.87      0.87      0.87       126\n",
      "\n"
     ]
    }
   ],
   "source": [
    "path_train = '../traintestdata/euro_train.csv'\n",
    "path_test = '../traintestdata/euro_test.csv'\n",
    "RNN(path_train,path_test)"
   ]
  },
  {
   "cell_type": "markdown",
   "id": "a7bf0136",
   "metadata": {},
   "source": [
    "# Combined"
   ]
  },
  {
   "cell_type": "code",
   "execution_count": 6,
   "id": "fc9f6787",
   "metadata": {
    "scrolled": true
   },
   "outputs": [
    {
     "name": "stdout",
     "output_type": "stream",
     "text": [
      "Epoch 1/10\n",
      "21/21 [==============================] - 2s 13ms/step - loss: 0.5782 - accuracy: 0.7314\n",
      "Epoch 2/10\n",
      "21/21 [==============================] - 0s 14ms/step - loss: 0.4574 - accuracy: 0.7857\n",
      "Epoch 3/10\n",
      "21/21 [==============================] - 0s 13ms/step - loss: 0.4306 - accuracy: 0.7981\n",
      "Epoch 4/10\n",
      "21/21 [==============================] - 0s 14ms/step - loss: 0.4360 - accuracy: 0.7904\n",
      "Epoch 5/10\n",
      "21/21 [==============================] - 0s 13ms/step - loss: 0.4049 - accuracy: 0.8214\n",
      "Epoch 6/10\n",
      "21/21 [==============================] - 0s 14ms/step - loss: 0.3938 - accuracy: 0.8230\n",
      "Epoch 7/10\n",
      "21/21 [==============================] - 0s 15ms/step - loss: 0.3866 - accuracy: 0.8245\n",
      "Epoch 8/10\n",
      "21/21 [==============================] - 0s 14ms/step - loss: 0.3824 - accuracy: 0.8245\n",
      "Epoch 9/10\n",
      "21/21 [==============================] - 0s 13ms/step - loss: 0.3809 - accuracy: 0.8307\n",
      "Epoch 10/10\n",
      "21/21 [==============================] - 0s 13ms/step - loss: 0.3842 - accuracy: 0.8323\n",
      "[[ 92  11]\n",
      " [ 30 143]]\n",
      "              precision    recall  f1-score   support\n",
      "\n",
      "           0       0.89      0.75      0.82       122\n",
      "           1       0.83      0.93      0.87       154\n",
      "\n",
      "    accuracy                           0.85       276\n",
      "   macro avg       0.86      0.84      0.85       276\n",
      "weighted avg       0.86      0.85      0.85       276\n",
      "\n"
     ]
    }
   ],
   "source": [
    "path_train = '../traintestdata/com_train.csv'\n",
    "path_test = '../traintestdata/com_test.csv'\n",
    "RNN(path_train,path_test)"
   ]
  },
  {
   "cell_type": "markdown",
   "id": "69ce7695",
   "metadata": {},
   "source": [
    "# Testing models on different data"
   ]
  },
  {
   "cell_type": "code",
   "execution_count": 7,
   "id": "218319b2",
   "metadata": {
    "scrolled": true
   },
   "outputs": [
    {
     "name": "stdout",
     "output_type": "stream",
     "text": [
      "Epoch 1/10\n",
      "7/7 [==============================] - 2s 15ms/step - loss: 0.5908 - accuracy: 0.7170\n",
      "Epoch 2/10\n",
      "7/7 [==============================] - 0s 14ms/step - loss: 0.4651 - accuracy: 0.8113\n",
      "Epoch 3/10\n",
      "7/7 [==============================] - 0s 13ms/step - loss: 0.4169 - accuracy: 0.8066\n",
      "Epoch 4/10\n",
      "7/7 [==============================] - 0s 15ms/step - loss: 0.4021 - accuracy: 0.8066\n",
      "Epoch 5/10\n",
      "7/7 [==============================] - 0s 14ms/step - loss: 0.3738 - accuracy: 0.8113\n",
      "Epoch 6/10\n",
      "7/7 [==============================] - 0s 14ms/step - loss: 0.3737 - accuracy: 0.8302\n",
      "Epoch 7/10\n",
      "7/7 [==============================] - 0s 13ms/step - loss: 0.3491 - accuracy: 0.8349\n",
      "Epoch 8/10\n",
      "7/7 [==============================] - 0s 15ms/step - loss: 0.3478 - accuracy: 0.8443\n",
      "Epoch 9/10\n",
      "7/7 [==============================] - 0s 14ms/step - loss: 0.3292 - accuracy: 0.8396\n",
      "Epoch 10/10\n",
      "7/7 [==============================] - 0s 14ms/step - loss: 0.3292 - accuracy: 0.8585\n",
      "[[45  6]\n",
      " [14 61]]\n",
      "              precision    recall  f1-score   support\n",
      "\n",
      "           0       0.88      0.76      0.82        59\n",
      "           1       0.81      0.91      0.86        67\n",
      "\n",
      "    accuracy                           0.84       126\n",
      "   macro avg       0.85      0.84      0.84       126\n",
      "weighted avg       0.85      0.84      0.84       126\n",
      "\n"
     ]
    }
   ],
   "source": [
    "path_train = '../traintestdata/cle_train.csv'\n",
    "path_test = '../traintestdata/euro_test.csv'\n",
    "RNN(path_train,path_test)"
   ]
  },
  {
   "cell_type": "code",
   "execution_count": 8,
   "id": "b94b89c2",
   "metadata": {
    "scrolled": true
   },
   "outputs": [
    {
     "name": "stdout",
     "output_type": "stream",
     "text": [
      "Epoch 1/10\n",
      "10/10 [==============================] - 2s 15ms/step - loss: 0.5229 - accuracy: 0.7457\n",
      "Epoch 2/10\n",
      "10/10 [==============================] - 0s 14ms/step - loss: 0.4231 - accuracy: 0.8213\n",
      "Epoch 3/10\n",
      "10/10 [==============================] - 0s 15ms/step - loss: 0.3935 - accuracy: 0.8557\n",
      "Epoch 4/10\n",
      "10/10 [==============================] - 0s 14ms/step - loss: 0.3444 - accuracy: 0.8385\n",
      "Epoch 5/10\n",
      "10/10 [==============================] - 0s 14ms/step - loss: 0.3420 - accuracy: 0.8454\n",
      "Epoch 6/10\n",
      "10/10 [==============================] - 0s 13ms/step - loss: 0.3189 - accuracy: 0.8557\n",
      "Epoch 7/10\n",
      "10/10 [==============================] - 0s 13ms/step - loss: 0.3151 - accuracy: 0.8660\n",
      "Epoch 8/10\n",
      "10/10 [==============================] - 0s 14ms/step - loss: 0.3051 - accuracy: 0.8660\n",
      "Epoch 9/10\n",
      "10/10 [==============================] - 0s 15ms/step - loss: 0.2870 - accuracy: 0.8900\n",
      "Epoch 10/10\n",
      "10/10 [==============================] - 0s 16ms/step - loss: 0.2820 - accuracy: 0.8832\n",
      "[[24  3]\n",
      " [27 37]]\n",
      "              precision    recall  f1-score   support\n",
      "\n",
      "           0       0.89      0.47      0.62        51\n",
      "           1       0.58      0.93      0.71        40\n",
      "\n",
      "    accuracy                           0.67        91\n",
      "   macro avg       0.73      0.70      0.66        91\n",
      "weighted avg       0.75      0.67      0.66        91\n",
      "\n"
     ]
    }
   ],
   "source": [
    "path_train = '../traintestdata/euro_train.csv'\n",
    "path_test = '../traintestdata/cle_test.csv'\n",
    "RNN(path_train,path_test)"
   ]
  },
  {
   "cell_type": "code",
   "execution_count": null,
   "id": "c01339e4",
   "metadata": {},
   "outputs": [],
   "source": []
  }
 ],
 "metadata": {
  "kernelspec": {
   "display_name": "Python 3 (ipykernel)",
   "language": "python",
   "name": "python3"
  },
  "language_info": {
   "codemirror_mode": {
    "name": "ipython",
    "version": 3
   },
   "file_extension": ".py",
   "mimetype": "text/x-python",
   "name": "python",
   "nbconvert_exporter": "python",
   "pygments_lexer": "ipython3",
   "version": "3.8.3"
  }
 },
 "nbformat": 4,
 "nbformat_minor": 5
}
