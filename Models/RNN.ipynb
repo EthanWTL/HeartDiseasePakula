{
 "cells": [
  {
   "cell_type": "code",
   "execution_count": 1,
   "id": "c773be18",
   "metadata": {},
   "outputs": [],
   "source": [
    "import numpy as np\n",
    "import pandas as pd\n",
    "from keras.models import Sequential\n",
    "from keras.layers import Dense, SimpleRNN\n",
    "from sklearn.metrics import confusion_matrix, classification_report"
   ]
  },
  {
   "cell_type": "code",
   "execution_count": 2,
   "id": "9a9d0451",
   "metadata": {},
   "outputs": [],
   "source": [
    "def RNN(path_train,path_test):\n",
    "    #Split the data\n",
    "    Train = pd.read_csv(path_train)\n",
    "    Test = pd.read_csv(path_test)\n",
    "    \n",
    "    X_train = Train.iloc[:,:-1]\n",
    "    Y_train = Train.iloc[:,-1]\n",
    "\n",
    "    X_test = Test.iloc[:,:-1]\n",
    "    Y_test = Test.iloc[:,-1]\n",
    "\n",
    "    #binarize the target\n",
    "    Y_train_binary = Y_train.apply(lambda x: 1 if x > 0 else 0)\n",
    "    Y_test_binary = Y_test.apply(lambda x: 1 if x > 0 else 0)\n",
    "\n",
    "    # define the model architecture\n",
    "    model = Sequential()\n",
    "    model.add(SimpleRNN(units=64, return_sequences=True, input_shape=(22, 1)))\n",
    "    model.add(SimpleRNN(units=32, return_sequences=True))\n",
    "    model.add(SimpleRNN(units=16))\n",
    "    model.add(Dense(units=2, activation='sigmoid'))\n",
    "    model.compile(optimizer='adam', loss='sparse_categorical_crossentropy', metrics=['accuracy'])\n",
    "    \n",
    "    model.fit(X_train, Y_train_binary, epochs=10, batch_size=32)\n",
    "    Y_pred = model.predict(X_test).argmax(axis=1)\n",
    "    \n",
    "    cm = confusion_matrix(Y_pred, Y_test_binary)\n",
    "    print(cm)\n",
    "    print(classification_report(Y_test_binary, Y_pred))"
   ]
  },
  {
   "cell_type": "markdown",
   "id": "011932f6",
   "metadata": {},
   "source": [
    "# Cleveland"
   ]
  },
  {
   "cell_type": "code",
   "execution_count": 3,
   "id": "87e10642",
   "metadata": {
    "scrolled": true
   },
   "outputs": [
    {
     "name": "stdout",
     "output_type": "stream",
     "text": [
      "Epoch 1/10\n",
      "7/7 [==============================] - 2s 14ms/step - loss: 0.7347 - accuracy: 0.5802\n",
      "Epoch 2/10\n",
      "7/7 [==============================] - 0s 13ms/step - loss: 0.4791 - accuracy: 0.7642\n",
      "Epoch 3/10\n",
      "7/7 [==============================] - 0s 13ms/step - loss: 0.4334 - accuracy: 0.7830\n",
      "Epoch 4/10\n",
      "7/7 [==============================] - 0s 13ms/step - loss: 0.4245 - accuracy: 0.7877\n",
      "Epoch 5/10\n",
      "7/7 [==============================] - 0s 13ms/step - loss: 0.3981 - accuracy: 0.8160\n",
      "Epoch 6/10\n",
      "7/7 [==============================] - 0s 14ms/step - loss: 0.3950 - accuracy: 0.8019\n",
      "Epoch 7/10\n",
      "7/7 [==============================] - 0s 13ms/step - loss: 0.3949 - accuracy: 0.7830\n",
      "Epoch 8/10\n",
      "7/7 [==============================] - 0s 14ms/step - loss: 0.3904 - accuracy: 0.7736\n",
      "Epoch 9/10\n",
      "7/7 [==============================] - 0s 14ms/step - loss: 0.3960 - accuracy: 0.7972\n",
      "Epoch 10/10\n",
      "7/7 [==============================] - 0s 14ms/step - loss: 0.3599 - accuracy: 0.8302\n",
      "[[39  4]\n",
      " [12 36]]\n",
      "              precision    recall  f1-score   support\n",
      "\n",
      "           0       0.91      0.76      0.83        51\n",
      "           1       0.75      0.90      0.82        40\n",
      "\n",
      "    accuracy                           0.82        91\n",
      "   macro avg       0.83      0.83      0.82        91\n",
      "weighted avg       0.84      0.82      0.82        91\n",
      "\n"
     ]
    }
   ],
   "source": [
    "path_train = '../traintestdata/cle_train.csv'\n",
    "path_test = '../traintestdata/cle_test.csv'\n",
    "RNN(path_train,path_test)"
   ]
  },
  {
   "cell_type": "markdown",
   "id": "a6188e68",
   "metadata": {},
   "source": [
    "# Virginia"
   ]
  },
  {
   "cell_type": "code",
   "execution_count": 4,
   "id": "8b19b95f",
   "metadata": {
    "scrolled": true
   },
   "outputs": [
    {
     "name": "stdout",
     "output_type": "stream",
     "text": [
      "Epoch 1/10\n",
      "5/5 [==============================] - 2s 14ms/step - loss: 0.6198 - accuracy: 0.6714\n",
      "Epoch 2/10\n",
      "5/5 [==============================] - 0s 15ms/step - loss: 0.5071 - accuracy: 0.7714\n",
      "Epoch 3/10\n",
      "5/5 [==============================] - 0s 15ms/step - loss: 0.4903 - accuracy: 0.7929\n",
      "Epoch 4/10\n",
      "5/5 [==============================] - 0s 15ms/step - loss: 0.4747 - accuracy: 0.7214\n",
      "Epoch 5/10\n",
      "5/5 [==============================] - 0s 15ms/step - loss: 0.4329 - accuracy: 0.7857\n",
      "Epoch 6/10\n",
      "5/5 [==============================] - 0s 16ms/step - loss: 0.4043 - accuracy: 0.8214\n",
      "Epoch 7/10\n",
      "5/5 [==============================] - 0s 15ms/step - loss: 0.3987 - accuracy: 0.8357\n",
      "Epoch 8/10\n",
      "5/5 [==============================] - 0s 15ms/step - loss: 0.3757 - accuracy: 0.8143\n",
      "Epoch 9/10\n",
      "5/5 [==============================] - 0s 14ms/step - loss: 0.3780 - accuracy: 0.8143\n",
      "Epoch 10/10\n",
      "5/5 [==============================] - 0s 14ms/step - loss: 0.3556 - accuracy: 0.8571\n",
      "[[ 3  3]\n",
      " [10 44]]\n",
      "              precision    recall  f1-score   support\n",
      "\n",
      "           0       0.50      0.23      0.32        13\n",
      "           1       0.81      0.94      0.87        47\n",
      "\n",
      "    accuracy                           0.78        60\n",
      "   macro avg       0.66      0.58      0.59        60\n",
      "weighted avg       0.75      0.78      0.75        60\n",
      "\n"
     ]
    }
   ],
   "source": [
    "path_train = '../traintestdata/vir_train.csv'\n",
    "path_test = '../traintestdata/vir_test.csv'\n",
    "RNN(path_train,path_test)"
   ]
  },
  {
   "cell_type": "markdown",
   "id": "d3164806",
   "metadata": {},
   "source": [
    "# Europe"
   ]
  },
  {
   "cell_type": "code",
   "execution_count": 5,
   "id": "709e58d6",
   "metadata": {
    "scrolled": true
   },
   "outputs": [
    {
     "name": "stdout",
     "output_type": "stream",
     "text": [
      "Epoch 1/10\n",
      "10/10 [==============================] - 2s 15ms/step - loss: 0.4934 - accuracy: 0.7491\n",
      "Epoch 2/10\n",
      "10/10 [==============================] - 0s 13ms/step - loss: 0.3878 - accuracy: 0.8247\n",
      "Epoch 3/10\n",
      "10/10 [==============================] - 0s 14ms/step - loss: 0.4024 - accuracy: 0.8213\n",
      "Epoch 4/10\n",
      "10/10 [==============================] - 0s 13ms/step - loss: 0.3432 - accuracy: 0.8316\n",
      "Epoch 5/10\n",
      "10/10 [==============================] - 0s 13ms/step - loss: 0.3292 - accuracy: 0.8660\n",
      "Epoch 6/10\n",
      "10/10 [==============================] - 0s 13ms/step - loss: 0.3184 - accuracy: 0.8694\n",
      "Epoch 7/10\n",
      "10/10 [==============================] - 0s 15ms/step - loss: 0.3092 - accuracy: 0.8729\n",
      "Epoch 8/10\n",
      "10/10 [==============================] - 0s 15ms/step - loss: 0.2997 - accuracy: 0.8660\n",
      "Epoch 9/10\n",
      "10/10 [==============================] - 0s 15ms/step - loss: 0.3056 - accuracy: 0.8694\n",
      "Epoch 10/10\n",
      "10/10 [==============================] - 0s 13ms/step - loss: 0.2900 - accuracy: 0.8694\n",
      "[[51  6]\n",
      " [ 8 61]]\n",
      "              precision    recall  f1-score   support\n",
      "\n",
      "           0       0.89      0.86      0.88        59\n",
      "           1       0.88      0.91      0.90        67\n",
      "\n",
      "    accuracy                           0.89       126\n",
      "   macro avg       0.89      0.89      0.89       126\n",
      "weighted avg       0.89      0.89      0.89       126\n",
      "\n"
     ]
    }
   ],
   "source": [
    "path_train = '../traintestdata/euro_train.csv'\n",
    "path_test = '../traintestdata/euro_test.csv'\n",
    "RNN(path_train,path_test)"
   ]
  },
  {
   "cell_type": "markdown",
   "id": "a7bf0136",
   "metadata": {},
   "source": [
    "# Combined"
   ]
  },
  {
   "cell_type": "code",
   "execution_count": 6,
   "id": "fc9f6787",
   "metadata": {
    "scrolled": true
   },
   "outputs": [
    {
     "name": "stdout",
     "output_type": "stream",
     "text": [
      "Epoch 1/10\n",
      "21/21 [==============================] - 3s 13ms/step - loss: 0.5093 - accuracy: 0.7593\n",
      "Epoch 2/10\n",
      "21/21 [==============================] - 0s 14ms/step - loss: 0.4749 - accuracy: 0.8012\n",
      "Epoch 3/10\n",
      "21/21 [==============================] - 0s 14ms/step - loss: 0.4231 - accuracy: 0.8137\n",
      "Epoch 4/10\n",
      "21/21 [==============================] - 0s 14ms/step - loss: 0.4237 - accuracy: 0.8183\n",
      "Epoch 5/10\n",
      "21/21 [==============================] - 0s 14ms/step - loss: 0.4137 - accuracy: 0.8261\n",
      "Epoch 6/10\n",
      "21/21 [==============================] - 0s 12ms/step - loss: 0.3846 - accuracy: 0.8276\n",
      "Epoch 7/10\n",
      "21/21 [==============================] - 0s 13ms/step - loss: 0.3865 - accuracy: 0.8292\n",
      "Epoch 8/10\n",
      "21/21 [==============================] - 0s 13ms/step - loss: 0.3860 - accuracy: 0.8214\n",
      "Epoch 9/10\n",
      "21/21 [==============================] - 0s 13ms/step - loss: 0.3788 - accuracy: 0.8401\n",
      "Epoch 10/10\n",
      "21/21 [==============================] - 0s 12ms/step - loss: 0.3656 - accuracy: 0.8401\n",
      "[[103  29]\n",
      " [ 19 125]]\n",
      "              precision    recall  f1-score   support\n",
      "\n",
      "           0       0.78      0.84      0.81       122\n",
      "           1       0.87      0.81      0.84       154\n",
      "\n",
      "    accuracy                           0.83       276\n",
      "   macro avg       0.82      0.83      0.82       276\n",
      "weighted avg       0.83      0.83      0.83       276\n",
      "\n"
     ]
    }
   ],
   "source": [
    "path_train = '../traintestdata/com_train.csv'\n",
    "path_test = '../traintestdata/com_test.csv'\n",
    "RNN(path_train,path_test)"
   ]
  }
 ],
 "metadata": {
  "kernelspec": {
   "display_name": "Python 3 (ipykernel)",
   "language": "python",
   "name": "python3"
  },
  "language_info": {
   "codemirror_mode": {
    "name": "ipython",
    "version": 3
   },
   "file_extension": ".py",
   "mimetype": "text/x-python",
   "name": "python",
   "nbconvert_exporter": "python",
   "pygments_lexer": "ipython3",
   "version": "3.8.3"
  }
 },
 "nbformat": 4,
 "nbformat_minor": 5
}
