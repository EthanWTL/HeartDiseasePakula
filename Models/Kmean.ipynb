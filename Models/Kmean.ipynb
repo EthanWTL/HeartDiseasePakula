{
 "cells": [
  {
   "cell_type": "code",
   "execution_count": 1,
   "id": "a2c82e73",
   "metadata": {},
   "outputs": [],
   "source": [
    "import numpy as np \n",
    "import pandas as pd\n",
    "from sklearn.metrics import confusion_matrix, classification_report\n",
    "from sklearn.cluster import KMeans"
   ]
  },
  {
   "cell_type": "code",
   "execution_count": 2,
   "id": "dd5fc3b4",
   "metadata": {},
   "outputs": [],
   "source": [
    "def km(path_train,path_test):\n",
    "    #Split the data\n",
    "    Train = pd.read_csv(path_train)\n",
    "    Test = pd.read_csv(path_test)\n",
    "    \n",
    "    X_train = Train.iloc[:,:-1]\n",
    "    Y_train = Train.iloc[:,-1]\n",
    "\n",
    "    X_test = Test.iloc[:,:-1]\n",
    "    Y_test = Test.iloc[:,-1]\n",
    "\n",
    "    #binarize the target\n",
    "    Y_train_binary = Y_train.apply(lambda x: 1 if x > 0 else 0)\n",
    "    Y_test_binary = Y_test.apply(lambda x: 1 if x > 0 else 0)\n",
    "    \n",
    "    data = pd.concat([X_train,X_test])\n",
    "    label = pd.concat([Y_train_binary,Y_test_binary])\n",
    "    \n",
    "    #Kmean\n",
    "    kmeans = KMeans(n_clusters =2).fit(data)\n",
    "    #result of kmean\n",
    "    result = sum(1 for x,y in zip(label,kmeans.labels_) if x == y) / len(kmeans.labels_)\n",
    "    #take the best clustering stragegy\n",
    "    final_result = max(result,1-result)\n",
    "    if final_result == result:\n",
    "        cm(label,kmeans.labels_)\n",
    "    else:\n",
    "        label_reversed = reverse(label)\n",
    "        cm(label_reveserd,kmeans.labels_)\n",
    "    print(cm)\n",
    "    \n",
    "    return final_result"
   ]
  },
  {
   "cell_type": "code",
   "execution_count": 3,
   "id": "23446c74",
   "metadata": {},
   "outputs": [],
   "source": [
    "#Helper functions:\n",
    "def reverse(label):\n",
    "    for i in range(len(label)):\n",
    "        if label[i] == 0:\n",
    "            label[i] = 1\n",
    "        else:\n",
    "            label[i] = 0\n",
    "\n",
    "def cm(labels, predictions):\n",
    "    right0 = 0\n",
    "    wrong0 = 0\n",
    "    right1 = 0\n",
    "    wrong1 = 0\n",
    "    for i in range(len(labels.values)):\n",
    "        if labels.values[i] == 0 and predictions[i] == 0:\n",
    "            right0 = right0 + 1\n",
    "        elif labels.values[i] == 0 and not predictions[i] == 0:\n",
    "            wrong0 = wrong0 + 1\n",
    "        elif labels.values[i] == 1 and predictions[i] == 1:\n",
    "            right1 = right1 + 1\n",
    "        else:\n",
    "            wrong1 = wrong1 + 1\n",
    "    print(\"actual 0, predicted as 0:\"+str(right0))\n",
    "    print(\"actual 0, predicted as 1:\"+str(wrong0))\n",
    "    print(\"actual 1, predicted as 1:\"+str(right1))\n",
    "    print(\"actual 1, predicted as 0:\"+str(wrong1))"
   ]
  },
  {
   "cell_type": "markdown",
   "id": "20e5e3d4",
   "metadata": {},
   "source": [
    "# Cleveland"
   ]
  },
  {
   "cell_type": "code",
   "execution_count": 4,
   "id": "28c2ede1",
   "metadata": {
    "scrolled": false
   },
   "outputs": [
    {
     "name": "stdout",
     "output_type": "stream",
     "text": [
      "actual 0, predicted as 0:127\n",
      "actual 0, predicted as 1:37\n",
      "actual 1, predicted as 1:117\n",
      "actual 1, predicted as 0:22\n",
      "<function cm at 0x000002E0369DBB80>\n",
      "0.8052805280528053\n"
     ]
    }
   ],
   "source": [
    "path_train = '../traintestdata/cle_train.csv'\n",
    "path_test = '../traintestdata/cle_test.csv'\n",
    "print(km(path_train,path_test))"
   ]
  },
  {
   "cell_type": "markdown",
   "id": "297b4e7b",
   "metadata": {},
   "source": [
    "# Virginia"
   ]
  },
  {
   "cell_type": "code",
   "execution_count": 5,
   "id": "0f78d0ee",
   "metadata": {
    "scrolled": true
   },
   "outputs": [
    {
     "name": "stdout",
     "output_type": "stream",
     "text": [
      "actual 0, predicted as 0:25\n",
      "actual 0, predicted as 1:26\n",
      "actual 1, predicted as 1:81\n",
      "actual 1, predicted as 0:68\n",
      "<function cm at 0x000002E0369DBB80>\n",
      "0.53\n"
     ]
    }
   ],
   "source": [
    "path_train = '../traintestdata/vir_train.csv'\n",
    "path_test = '../traintestdata/vir_test.csv'\n",
    "print(km(path_train,path_test))"
   ]
  },
  {
   "cell_type": "markdown",
   "id": "c426d51a",
   "metadata": {},
   "source": [
    "# European"
   ]
  },
  {
   "cell_type": "code",
   "execution_count": 6,
   "id": "cfb7da2b",
   "metadata": {
    "scrolled": true
   },
   "outputs": [
    {
     "name": "stdout",
     "output_type": "stream",
     "text": [
      "actual 0, predicted as 0:152\n",
      "actual 0, predicted as 1:44\n",
      "actual 1, predicted as 1:183\n",
      "actual 1, predicted as 0:38\n",
      "<function cm at 0x000002E0369DBB80>\n",
      "0.8033573141486811\n"
     ]
    }
   ],
   "source": [
    "path_train = '../traintestdata/euro_train.csv'\n",
    "path_test = '../traintestdata/euro_test.csv'\n",
    "print(km(path_train,path_test))"
   ]
  },
  {
   "cell_type": "markdown",
   "id": "925779fe",
   "metadata": {},
   "source": [
    "# Combined"
   ]
  },
  {
   "cell_type": "code",
   "execution_count": 7,
   "id": "50ab68d2",
   "metadata": {
    "scrolled": true
   },
   "outputs": [
    {
     "name": "stdout",
     "output_type": "stream",
     "text": [
      "actual 0, predicted as 0:313\n",
      "actual 0, predicted as 1:98\n",
      "actual 1, predicted as 1:392\n",
      "actual 1, predicted as 0:117\n",
      "<function cm at 0x000002E0369DBB80>\n",
      "0.7663043478260869\n"
     ]
    }
   ],
   "source": [
    "path_train = '../traintestdata/com_train.csv'\n",
    "path_test = '../traintestdata/com_test.csv'\n",
    "print(km(path_train,path_test))"
   ]
  },
  {
   "cell_type": "code",
   "execution_count": null,
   "id": "cac3bc3d",
   "metadata": {},
   "outputs": [],
   "source": []
  }
 ],
 "metadata": {
  "kernelspec": {
   "display_name": "Python 3 (ipykernel)",
   "language": "python",
   "name": "python3"
  },
  "language_info": {
   "codemirror_mode": {
    "name": "ipython",
    "version": 3
   },
   "file_extension": ".py",
   "mimetype": "text/x-python",
   "name": "python",
   "nbconvert_exporter": "python",
   "pygments_lexer": "ipython3",
   "version": "3.8.3"
  }
 },
 "nbformat": 4,
 "nbformat_minor": 5
}
