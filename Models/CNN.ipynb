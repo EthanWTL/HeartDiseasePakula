{
 "cells": [
  {
   "cell_type": "code",
   "execution_count": 1,
   "id": "c773be18",
   "metadata": {},
   "outputs": [],
   "source": [
    "import numpy as np\n",
    "import pandas as pd\n",
    "from keras.models import Sequential\n",
    "from keras.layers import Conv1D, MaxPooling1D, Flatten, Dense, Dropout\n",
    "from sklearn.metrics import confusion_matrix, classification_report"
   ]
  },
  {
   "cell_type": "code",
   "execution_count": 10,
   "id": "9a9d0451",
   "metadata": {},
   "outputs": [],
   "source": [
    "def CNN(path_train,path_test):\n",
    "    #Split the data\n",
    "    Train = pd.read_csv(path_train)\n",
    "    Test = pd.read_csv(path_test)\n",
    "    \n",
    "    X_train = Train.iloc[:,:-1]\n",
    "    Y_train = Train.iloc[:,-1]\n",
    "\n",
    "    X_test = Test.iloc[:,:-1]\n",
    "    Y_test = Test.iloc[:,-1]\n",
    "\n",
    "    #binarize the target\n",
    "    Y_train_binary = Y_train.apply(lambda x: 1 if x > 0 else 0)\n",
    "    Y_test_binary = Y_test.apply(lambda x: 1 if x > 0 else 0)\n",
    "\n",
    "    # define the model architecture\n",
    "    model = Sequential()\n",
    "    model.add(Conv1D(filters=256, kernel_size=3, activation='relu', input_shape=(22,1)))\n",
    "    model.add(Conv1D(filters=256, kernel_size=3, activation='relu'))\n",
    "    model.add(MaxPooling1D(pool_size=2))\n",
    "\n",
    "    model.add(Conv1D(filters=512, kernel_size=3, activation='relu'))\n",
    "    model.add(MaxPooling1D(pool_size=2))\n",
    "\n",
    "    model.add(Flatten())\n",
    "    model.add(Dense(512, activation='relu'))\n",
    "    model.add(Dense(7, activation='softmax'))\n",
    "\n",
    "    model.compile(loss='sparse_categorical_crossentropy', optimizer='adam', metrics=['accuracy'])\n",
    "    \n",
    "    model.fit(X_train, Y_train_binary, epochs=10, batch_size=32)\n",
    "    Y_pred = model.predict(X_test).argmax(axis=1)\n",
    "    \n",
    "    cm = confusion_matrix(Y_pred, Y_test_binary)\n",
    "    print(cm)\n",
    "    print(classification_report(Y_test_binary, Y_pred))\n",
    "    return model"
   ]
  },
  {
   "cell_type": "markdown",
   "id": "011932f6",
   "metadata": {},
   "source": [
    "# Cleveland"
   ]
  },
  {
   "cell_type": "code",
   "execution_count": 11,
   "id": "87e10642",
   "metadata": {
    "scrolled": true
   },
   "outputs": [
    {
     "name": "stdout",
     "output_type": "stream",
     "text": [
      "Epoch 1/10\n",
      "7/7 [==============================] - 1s 15ms/step - loss: 1.1441 - accuracy: 0.4340\n",
      "Epoch 2/10\n",
      "7/7 [==============================] - 0s 15ms/step - loss: 0.8049 - accuracy: 0.5000\n",
      "Epoch 3/10\n",
      "7/7 [==============================] - 0s 15ms/step - loss: 0.5968 - accuracy: 0.6698\n",
      "Epoch 4/10\n",
      "7/7 [==============================] - 0s 15ms/step - loss: 0.5223 - accuracy: 0.7594\n",
      "Epoch 5/10\n",
      "7/7 [==============================] - 0s 16ms/step - loss: 0.4831 - accuracy: 0.7736\n",
      "Epoch 6/10\n",
      "7/7 [==============================] - 0s 17ms/step - loss: 0.4606 - accuracy: 0.7877\n",
      "Epoch 7/10\n",
      "7/7 [==============================] - 0s 17ms/step - loss: 0.4474 - accuracy: 0.7925\n",
      "Epoch 8/10\n",
      "7/7 [==============================] - 0s 16ms/step - loss: 0.4358 - accuracy: 0.7925\n",
      "Epoch 9/10\n",
      "7/7 [==============================] - 0s 15ms/step - loss: 0.4148 - accuracy: 0.8302\n",
      "Epoch 10/10\n",
      "7/7 [==============================] - 0s 15ms/step - loss: 0.4188 - accuracy: 0.8019\n",
      "3/3 [==============================] - 0s 4ms/step\n",
      "[[40  6]\n",
      " [11 34]]\n",
      "              precision    recall  f1-score   support\n",
      "\n",
      "           0       0.87      0.78      0.82        51\n",
      "           1       0.76      0.85      0.80        40\n",
      "\n",
      "    accuracy                           0.81        91\n",
      "   macro avg       0.81      0.82      0.81        91\n",
      "weighted avg       0.82      0.81      0.81        91\n",
      "\n"
     ]
    }
   ],
   "source": [
    "path_train = '../traintestdata/cle_train.csv'\n",
    "path_test = '../traintestdata/cle_test.csv'\n",
    "model = CNN(path_train,path_test)"
   ]
  },
  {
   "cell_type": "markdown",
   "id": "a6188e68",
   "metadata": {},
   "source": [
    "# Virginia"
   ]
  },
  {
   "cell_type": "code",
   "execution_count": 4,
   "id": "8b19b95f",
   "metadata": {
    "scrolled": true
   },
   "outputs": [
    {
     "name": "stdout",
     "output_type": "stream",
     "text": [
      "Epoch 1/10\n",
      "5/5 [==============================] - 1s 23ms/step - loss: 1.5135 - accuracy: 0.5286\n",
      "Epoch 2/10\n",
      "5/5 [==============================] - 0s 23ms/step - loss: 0.6122 - accuracy: 0.7286\n",
      "Epoch 3/10\n",
      "5/5 [==============================] - 0s 21ms/step - loss: 0.6442 - accuracy: 0.7286\n",
      "Epoch 4/10\n",
      "5/5 [==============================] - 0s 22ms/step - loss: 0.6120 - accuracy: 0.7143\n",
      "Epoch 5/10\n",
      "5/5 [==============================] - 0s 21ms/step - loss: 0.5545 - accuracy: 0.7286\n",
      "Epoch 6/10\n",
      "5/5 [==============================] - 0s 23ms/step - loss: 0.5570 - accuracy: 0.7286\n",
      "Epoch 7/10\n",
      "5/5 [==============================] - 0s 25ms/step - loss: 0.5458 - accuracy: 0.7286\n",
      "Epoch 8/10\n",
      "5/5 [==============================] - 0s 25ms/step - loss: 0.5574 - accuracy: 0.7286\n",
      "Epoch 9/10\n",
      "5/5 [==============================] - 0s 25ms/step - loss: 0.5404 - accuracy: 0.7357\n",
      "Epoch 10/10\n",
      "5/5 [==============================] - 0s 23ms/step - loss: 0.5359 - accuracy: 0.7286\n",
      "[[ 0  0]\n",
      " [13 47]]\n",
      "              precision    recall  f1-score   support\n",
      "\n",
      "           0       0.00      0.00      0.00        13\n",
      "           1       0.78      1.00      0.88        47\n",
      "\n",
      "    accuracy                           0.78        60\n",
      "   macro avg       0.39      0.50      0.44        60\n",
      "weighted avg       0.61      0.78      0.69        60\n",
      "\n"
     ]
    },
    {
     "name": "stderr",
     "output_type": "stream",
     "text": [
      "c:\\users\\votri\\appdata\\local\\programs\\python\\python38\\lib\\site-packages\\sklearn\\metrics\\_classification.py:1318: UndefinedMetricWarning: Precision and F-score are ill-defined and being set to 0.0 in labels with no predicted samples. Use `zero_division` parameter to control this behavior.\n",
      "  _warn_prf(average, modifier, msg_start, len(result))\n",
      "c:\\users\\votri\\appdata\\local\\programs\\python\\python38\\lib\\site-packages\\sklearn\\metrics\\_classification.py:1318: UndefinedMetricWarning: Precision and F-score are ill-defined and being set to 0.0 in labels with no predicted samples. Use `zero_division` parameter to control this behavior.\n",
      "  _warn_prf(average, modifier, msg_start, len(result))\n",
      "c:\\users\\votri\\appdata\\local\\programs\\python\\python38\\lib\\site-packages\\sklearn\\metrics\\_classification.py:1318: UndefinedMetricWarning: Precision and F-score are ill-defined and being set to 0.0 in labels with no predicted samples. Use `zero_division` parameter to control this behavior.\n",
      "  _warn_prf(average, modifier, msg_start, len(result))\n"
     ]
    }
   ],
   "source": [
    "path_train = '../traintestdata/vir_train.csv'\n",
    "path_test = '../traintestdata/vir_test.csv'\n",
    "CNN(path_train,path_test)"
   ]
  },
  {
   "cell_type": "markdown",
   "id": "d3164806",
   "metadata": {},
   "source": [
    "# Europe"
   ]
  },
  {
   "cell_type": "code",
   "execution_count": 5,
   "id": "709e58d6",
   "metadata": {
    "scrolled": true
   },
   "outputs": [
    {
     "name": "stdout",
     "output_type": "stream",
     "text": [
      "Epoch 1/10\n",
      "10/10 [==============================] - 1s 20ms/step - loss: 1.0384 - accuracy: 0.5223\n",
      "Epoch 2/10\n",
      "10/10 [==============================] - 0s 20ms/step - loss: 0.5186 - accuracy: 0.7526\n",
      "Epoch 3/10\n",
      "10/10 [==============================] - 0s 20ms/step - loss: 0.5313 - accuracy: 0.7629\n",
      "Epoch 4/10\n",
      "10/10 [==============================] - 0s 20ms/step - loss: 0.4328 - accuracy: 0.7766\n",
      "Epoch 5/10\n",
      "10/10 [==============================] - 0s 23ms/step - loss: 0.4043 - accuracy: 0.8179\n",
      "Epoch 6/10\n",
      "10/10 [==============================] - 0s 21ms/step - loss: 0.3905 - accuracy: 0.8316\n",
      "Epoch 7/10\n",
      "10/10 [==============================] - 0s 21ms/step - loss: 0.3719 - accuracy: 0.8316\n",
      "Epoch 8/10\n",
      "10/10 [==============================] - 0s 23ms/step - loss: 0.3645 - accuracy: 0.8385\n",
      "Epoch 9/10\n",
      "10/10 [==============================] - 0s 23ms/step - loss: 0.3539 - accuracy: 0.8522\n",
      "Epoch 10/10\n",
      "10/10 [==============================] - 0s 26ms/step - loss: 0.3357 - accuracy: 0.8419\n",
      "[[48  6]\n",
      " [11 61]]\n",
      "              precision    recall  f1-score   support\n",
      "\n",
      "           0       0.89      0.81      0.85        59\n",
      "           1       0.85      0.91      0.88        67\n",
      "\n",
      "    accuracy                           0.87       126\n",
      "   macro avg       0.87      0.86      0.86       126\n",
      "weighted avg       0.87      0.87      0.86       126\n",
      "\n"
     ]
    }
   ],
   "source": [
    "path_train = '../traintestdata/euro_train.csv'\n",
    "path_test = '../traintestdata/euro_test.csv'\n",
    "CNN(path_train,path_test)"
   ]
  },
  {
   "cell_type": "markdown",
   "id": "a7bf0136",
   "metadata": {},
   "source": [
    "# Combined"
   ]
  },
  {
   "cell_type": "code",
   "execution_count": 6,
   "id": "fc9f6787",
   "metadata": {
    "scrolled": true
   },
   "outputs": [
    {
     "name": "stdout",
     "output_type": "stream",
     "text": [
      "Epoch 1/10\n",
      "21/21 [==============================] - 1s 22ms/step - loss: 0.9234 - accuracy: 0.5202\n",
      "Epoch 2/10\n",
      "21/21 [==============================] - 0s 21ms/step - loss: 0.5885 - accuracy: 0.7096\n",
      "Epoch 3/10\n",
      "21/21 [==============================] - 0s 21ms/step - loss: 0.4718 - accuracy: 0.7655\n",
      "Epoch 4/10\n",
      "21/21 [==============================] - 0s 23ms/step - loss: 0.4920 - accuracy: 0.7655\n",
      "Epoch 5/10\n",
      "21/21 [==============================] - 1s 24ms/step - loss: 0.4571 - accuracy: 0.7935\n",
      "Epoch 6/10\n",
      "21/21 [==============================] - 0s 23ms/step - loss: 0.4630 - accuracy: 0.7811\n",
      "Epoch 7/10\n",
      "21/21 [==============================] - 0s 21ms/step - loss: 0.4333 - accuracy: 0.8152\n",
      "Epoch 8/10\n",
      "21/21 [==============================] - 0s 21ms/step - loss: 0.4401 - accuracy: 0.8043\n",
      "Epoch 9/10\n",
      "21/21 [==============================] - 0s 22ms/step - loss: 0.4547 - accuracy: 0.7966\n",
      "Epoch 10/10\n",
      "21/21 [==============================] - 0s 22ms/step - loss: 0.4124 - accuracy: 0.8230\n",
      "[[ 99  21]\n",
      " [ 23 133]]\n",
      "              precision    recall  f1-score   support\n",
      "\n",
      "           0       0.82      0.81      0.82       122\n",
      "           1       0.85      0.86      0.86       154\n",
      "\n",
      "    accuracy                           0.84       276\n",
      "   macro avg       0.84      0.84      0.84       276\n",
      "weighted avg       0.84      0.84      0.84       276\n",
      "\n"
     ]
    }
   ],
   "source": [
    "path_train = '../traintestdata/com_train.csv'\n",
    "path_test = '../traintestdata/com_test.csv'\n",
    "CNN(path_train,path_test)"
   ]
  },
  {
   "cell_type": "code",
   "execution_count": 5,
   "id": "444dae5e",
   "metadata": {},
   "outputs": [],
   "source": [
    "path_train = '../traintestdata/euro_train.csv'\n",
    "path_test = '../traintestdata/euro_test.csv'"
   ]
  },
  {
   "cell_type": "code",
   "execution_count": 8,
   "id": "b5a6c03e",
   "metadata": {},
   "outputs": [
    {
     "data": {
      "text/plain": [
       "0      0\n",
       "1      1\n",
       "2      0\n",
       "3      0\n",
       "4      0\n",
       "      ..\n",
       "412    1\n",
       "413    1\n",
       "414    1\n",
       "415    1\n",
       "416    1\n",
       "Name: num, Length: 417, dtype: int64"
      ]
     },
     "execution_count": 8,
     "metadata": {},
     "output_type": "execute_result"
    }
   ],
   "source": [
    "Train = pd.read_csv(path_train)\n",
    "Test = pd.read_csv(path_test)\n",
    "    \n",
    "X_train = Train.iloc[:,:-1]\n",
    "Y_train = Train.iloc[:,-1]\n",
    "\n",
    "X_test = Test.iloc[:,:-1]\n",
    "Y_test = Test.iloc[:,-1]\n",
    "\n",
    "#binarize the target\n",
    "Y_train_binary = Y_train.apply(lambda x: 1 if x > 0 else 0)\n",
    "Y_test_binary = Y_test.apply(lambda x: 1 if x > 0 else 0)\n",
    "\n",
    "data = pd.concat([X_train,X_test])\n",
    "labels = pd.concat([Y_train_binary,Y_test_binary])\n",
    "\n",
    "data = data.reset_index()\n",
    "data = data.drop(['index'],axis = 1)\n",
    "\n",
    "labels = labels.reset_index()\n",
    "labels = labels.iloc[:,-1]\n",
    "\n",
    "labels"
   ]
  },
  {
   "cell_type": "code",
   "execution_count": 12,
   "id": "f7106e18",
   "metadata": {},
   "outputs": [
    {
     "name": "stdout",
     "output_type": "stream",
     "text": [
      "14/14 [==============================] - 0s 4ms/step\n",
      "[[ 53  30]\n",
      " [143 191]]\n",
      "              precision    recall  f1-score   support\n",
      "\n",
      "           0       0.64      0.27      0.38       196\n",
      "           1       0.57      0.86      0.69       221\n",
      "\n",
      "    accuracy                           0.59       417\n",
      "   macro avg       0.61      0.57      0.53       417\n",
      "weighted avg       0.60      0.59      0.54       417\n",
      "\n"
     ]
    }
   ],
   "source": [
    "Y_pred = model.predict(data).argmax(axis=1)\n",
    "    \n",
    "cm = confusion_matrix(Y_pred, labels)\n",
    "print(cm)\n",
    "print(classification_report(labels, Y_pred))"
   ]
  },
  {
   "cell_type": "code",
   "execution_count": null,
   "id": "a16d8a0a",
   "metadata": {},
   "outputs": [],
   "source": []
  }
 ],
 "metadata": {
  "kernelspec": {
   "display_name": "Python 3 (ipykernel)",
   "language": "python",
   "name": "python3"
  },
  "language_info": {
   "codemirror_mode": {
    "name": "ipython",
    "version": 3
   },
   "file_extension": ".py",
   "mimetype": "text/x-python",
   "name": "python",
   "nbconvert_exporter": "python",
   "pygments_lexer": "ipython3",
   "version": "3.9.16"
  }
 },
 "nbformat": 4,
 "nbformat_minor": 5
}
