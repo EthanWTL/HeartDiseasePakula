{
 "cells": [
  {
   "cell_type": "code",
   "execution_count": 1,
   "id": "c773be18",
   "metadata": {},
   "outputs": [],
   "source": [
    "import numpy as np\n",
    "import pandas as pd\n",
    "from keras.models import Sequential\n",
    "from keras.layers import Conv1D, MaxPooling1D, Flatten, Dense, Dropout\n",
    "from sklearn.metrics import confusion_matrix, classification_report"
   ]
  },
  {
   "cell_type": "code",
   "execution_count": 2,
   "id": "9a9d0451",
   "metadata": {},
   "outputs": [],
   "source": [
    "def CNN(path_train,path_test):\n",
    "    #Split the data\n",
    "    Train = pd.read_csv(path_train)\n",
    "    Test = pd.read_csv(path_test)\n",
    "    \n",
    "    X_train = Train.iloc[:,:-1]\n",
    "    Y_train = Train.iloc[:,-1]\n",
    "\n",
    "    X_test = Test.iloc[:,:-1]\n",
    "    Y_test = Test.iloc[:,-1]\n",
    "\n",
    "    #binarize the target\n",
    "    Y_train_binary = Y_train.apply(lambda x: 1 if x > 0 else 0)\n",
    "    Y_test_binary = Y_test.apply(lambda x: 1 if x > 0 else 0)\n",
    "\n",
    "    # define the model architecture\n",
    "    model = Sequential()\n",
    "    model.add(Conv1D(filters=256, kernel_size=3, activation='relu', input_shape=(22,1)))\n",
    "    model.add(Conv1D(filters=256, kernel_size=3, activation='relu'))\n",
    "    model.add(MaxPooling1D(pool_size=2))\n",
    "\n",
    "    model.add(Conv1D(filters=512, kernel_size=3, activation='relu'))\n",
    "    model.add(MaxPooling1D(pool_size=2))\n",
    "\n",
    "    model.add(Flatten())\n",
    "    model.add(Dense(512, activation='relu'))\n",
    "    model.add(Dense(2, activation='sigmoid'))\n",
    "\n",
    "    model.compile(loss='sparse_categorical_crossentropy', optimizer='adam', metrics=['accuracy'])\n",
    "    \n",
    "    model.fit(X_train, Y_train_binary, epochs=10, batch_size=32)\n",
    "    Y_pred = model.predict(X_test).argmax(axis=1)\n",
    "    \n",
    "    cm = confusion_matrix(Y_pred, Y_test_binary)\n",
    "    print(cm)\n",
    "    print(classification_report(Y_test_binary, Y_pred))\n",
    "    return model"
   ]
  },
  {
   "cell_type": "markdown",
   "id": "011932f6",
   "metadata": {},
   "source": [
    "# Cleveland"
   ]
  },
  {
   "cell_type": "code",
   "execution_count": 3,
   "id": "87e10642",
   "metadata": {
    "scrolled": true
   },
   "outputs": [
    {
     "name": "stdout",
     "output_type": "stream",
     "text": [
      "Epoch 1/10\n",
      "7/7 [==============================] - 1s 22ms/step - loss: 0.6838 - accuracy: 0.5613\n",
      "Epoch 2/10\n",
      "7/7 [==============================] - 0s 24ms/step - loss: 0.5425 - accuracy: 0.7594\n",
      "Epoch 3/10\n",
      "7/7 [==============================] - 0s 24ms/step - loss: 0.5007 - accuracy: 0.7406\n",
      "Epoch 4/10\n",
      "7/7 [==============================] - 0s 23ms/step - loss: 0.4797 - accuracy: 0.7925\n",
      "Epoch 5/10\n",
      "7/7 [==============================] - 0s 23ms/step - loss: 0.4437 - accuracy: 0.8160\n",
      "Epoch 6/10\n",
      "7/7 [==============================] - 0s 24ms/step - loss: 0.4286 - accuracy: 0.7830\n",
      "Epoch 7/10\n",
      "7/7 [==============================] - 0s 25ms/step - loss: 0.4064 - accuracy: 0.8019\n",
      "Epoch 8/10\n",
      "7/7 [==============================] - 0s 24ms/step - loss: 0.3886 - accuracy: 0.8208\n",
      "Epoch 9/10\n",
      "7/7 [==============================] - 0s 24ms/step - loss: 0.3786 - accuracy: 0.8349\n",
      "Epoch 10/10\n",
      "7/7 [==============================] - 0s 25ms/step - loss: 0.3704 - accuracy: 0.8255\n",
      "[[38  5]\n",
      " [13 35]]\n",
      "              precision    recall  f1-score   support\n",
      "\n",
      "           0       0.88      0.75      0.81        51\n",
      "           1       0.73      0.88      0.80        40\n",
      "\n",
      "    accuracy                           0.80        91\n",
      "   macro avg       0.81      0.81      0.80        91\n",
      "weighted avg       0.82      0.80      0.80        91\n",
      "\n"
     ]
    }
   ],
   "source": [
    "path_train = '../traintestdata/cle_train.csv'\n",
    "path_test = '../traintestdata/cle_test.csv'\n",
    "model = CNN(path_train,path_test)"
   ]
  },
  {
   "cell_type": "markdown",
   "id": "a6188e68",
   "metadata": {},
   "source": [
    "# Virginia"
   ]
  },
  {
   "cell_type": "code",
   "execution_count": 4,
   "id": "8b19b95f",
   "metadata": {
    "scrolled": true
   },
   "outputs": [
    {
     "name": "stdout",
     "output_type": "stream",
     "text": [
      "Epoch 1/10\n",
      "5/5 [==============================] - 1s 23ms/step - loss: 0.6168 - accuracy: 0.7286\n",
      "Epoch 2/10\n",
      "5/5 [==============================] - 0s 23ms/step - loss: 0.5824 - accuracy: 0.7286\n",
      "Epoch 3/10\n",
      "5/5 [==============================] - 0s 24ms/step - loss: 0.5891 - accuracy: 0.7286\n",
      "Epoch 4/10\n",
      "5/5 [==============================] - 0s 24ms/step - loss: 0.5820 - accuracy: 0.7286\n",
      "Epoch 5/10\n",
      "5/5 [==============================] - 0s 25ms/step - loss: 0.5610 - accuracy: 0.7286\n",
      "Epoch 6/10\n",
      "5/5 [==============================] - 0s 23ms/step - loss: 0.5522 - accuracy: 0.7286\n",
      "Epoch 7/10\n",
      "5/5 [==============================] - 0s 25ms/step - loss: 0.5495 - accuracy: 0.7286\n",
      "Epoch 8/10\n",
      "5/5 [==============================] - 0s 24ms/step - loss: 0.5228 - accuracy: 0.7286\n",
      "Epoch 9/10\n",
      "5/5 [==============================] - 0s 24ms/step - loss: 0.5069 - accuracy: 0.7286\n",
      "Epoch 10/10\n",
      "5/5 [==============================] - 0s 25ms/step - loss: 0.4910 - accuracy: 0.7714\n",
      "[[ 3  1]\n",
      " [10 46]]\n",
      "              precision    recall  f1-score   support\n",
      "\n",
      "           0       0.75      0.23      0.35        13\n",
      "           1       0.82      0.98      0.89        47\n",
      "\n",
      "    accuracy                           0.82        60\n",
      "   macro avg       0.79      0.60      0.62        60\n",
      "weighted avg       0.81      0.82      0.78        60\n",
      "\n"
     ]
    },
    {
     "data": {
      "text/plain": [
       "<keras.engine.sequential.Sequential at 0x25467f7aa60>"
      ]
     },
     "execution_count": 4,
     "metadata": {},
     "output_type": "execute_result"
    }
   ],
   "source": [
    "path_train = '../traintestdata/vir_train.csv'\n",
    "path_test = '../traintestdata/vir_test.csv'\n",
    "CNN(path_train,path_test)"
   ]
  },
  {
   "cell_type": "markdown",
   "id": "6641dfd8",
   "metadata": {},
   "source": [
    "# Hungary"
   ]
  },
  {
   "cell_type": "code",
   "execution_count": 5,
   "id": "bb3836df",
   "metadata": {
    "scrolled": true
   },
   "outputs": [
    {
     "name": "stdout",
     "output_type": "stream",
     "text": [
      "Epoch 1/10\n",
      "7/7 [==============================] - 1s 22ms/step - loss: 0.6258 - accuracy: 0.6488\n",
      "Epoch 2/10\n",
      "7/7 [==============================] - 0s 23ms/step - loss: 0.4242 - accuracy: 0.8341\n",
      "Epoch 3/10\n",
      "7/7 [==============================] - 0s 25ms/step - loss: 0.3899 - accuracy: 0.7951\n",
      "Epoch 4/10\n",
      "7/7 [==============================] - 0s 24ms/step - loss: 0.3427 - accuracy: 0.8341\n",
      "Epoch 5/10\n",
      "7/7 [==============================] - 0s 22ms/step - loss: 0.3234 - accuracy: 0.8390\n",
      "Epoch 6/10\n",
      "7/7 [==============================] - 0s 23ms/step - loss: 0.3403 - accuracy: 0.8293\n",
      "Epoch 7/10\n",
      "7/7 [==============================] - 0s 25ms/step - loss: 0.2994 - accuracy: 0.8390\n",
      "Epoch 8/10\n",
      "7/7 [==============================] - 0s 24ms/step - loss: 0.2997 - accuracy: 0.8829\n",
      "Epoch 9/10\n",
      "7/7 [==============================] - 0s 23ms/step - loss: 0.3063 - accuracy: 0.8439\n",
      "Epoch 10/10\n",
      "7/7 [==============================] - 0s 27ms/step - loss: 0.2589 - accuracy: 0.9024\n",
      "[[54  9]\n",
      " [ 3 23]]\n",
      "              precision    recall  f1-score   support\n",
      "\n",
      "           0       0.86      0.95      0.90        57\n",
      "           1       0.88      0.72      0.79        32\n",
      "\n",
      "    accuracy                           0.87        89\n",
      "   macro avg       0.87      0.83      0.85        89\n",
      "weighted avg       0.87      0.87      0.86        89\n",
      "\n"
     ]
    },
    {
     "data": {
      "text/plain": [
       "<keras.engine.sequential.Sequential at 0x25468402430>"
      ]
     },
     "execution_count": 5,
     "metadata": {},
     "output_type": "execute_result"
    }
   ],
   "source": [
    "path_train = '../traintestdata/hun_train.csv'\n",
    "path_test = '../traintestdata/hun_test.csv'\n",
    "CNN(path_train,path_test)"
   ]
  },
  {
   "cell_type": "markdown",
   "id": "99efa3e1",
   "metadata": {},
   "source": [
    "# Switzerland"
   ]
  },
  {
   "cell_type": "code",
   "execution_count": 6,
   "id": "ad89e6db",
   "metadata": {
    "scrolled": true
   },
   "outputs": [
    {
     "name": "stdout",
     "output_type": "stream",
     "text": [
      "Epoch 1/10\n",
      "3/3 [==============================] - 1s 26ms/step - loss: 0.5478 - accuracy: 0.6047\n",
      "Epoch 2/10\n",
      "3/3 [==============================] - 0s 28ms/step - loss: 0.2909 - accuracy: 0.9302\n",
      "Epoch 3/10\n",
      "3/3 [==============================] - 0s 26ms/step - loss: 0.2672 - accuracy: 0.9302\n",
      "Epoch 4/10\n",
      "3/3 [==============================] - 0s 26ms/step - loss: 0.2553 - accuracy: 0.9302\n",
      "Epoch 5/10\n",
      "3/3 [==============================] - 0s 25ms/step - loss: 0.2383 - accuracy: 0.9302\n",
      "Epoch 6/10\n",
      "3/3 [==============================] - 0s 24ms/step - loss: 0.2498 - accuracy: 0.9302\n",
      "Epoch 7/10\n",
      "3/3 [==============================] - 0s 28ms/step - loss: 0.2335 - accuracy: 0.9302\n",
      "Epoch 8/10\n",
      "3/3 [==============================] - 0s 29ms/step - loss: 0.2265 - accuracy: 0.9302\n",
      "Epoch 9/10\n",
      "3/3 [==============================] - 0s 29ms/step - loss: 0.2130 - accuracy: 0.9302\n",
      "Epoch 10/10\n",
      "3/3 [==============================] - 0s 27ms/step - loss: 0.2048 - accuracy: 0.9302\n",
      "[[ 0  0]\n",
      " [ 2 35]]\n",
      "              precision    recall  f1-score   support\n",
      "\n",
      "           0       0.00      0.00      0.00         2\n",
      "           1       0.95      1.00      0.97        35\n",
      "\n",
      "    accuracy                           0.95        37\n",
      "   macro avg       0.47      0.50      0.49        37\n",
      "weighted avg       0.89      0.95      0.92        37\n",
      "\n"
     ]
    },
    {
     "name": "stderr",
     "output_type": "stream",
     "text": [
      "c:\\users\\votri\\appdata\\local\\programs\\python\\python38\\lib\\site-packages\\sklearn\\metrics\\_classification.py:1318: UndefinedMetricWarning: Precision and F-score are ill-defined and being set to 0.0 in labels with no predicted samples. Use `zero_division` parameter to control this behavior.\n",
      "  _warn_prf(average, modifier, msg_start, len(result))\n",
      "c:\\users\\votri\\appdata\\local\\programs\\python\\python38\\lib\\site-packages\\sklearn\\metrics\\_classification.py:1318: UndefinedMetricWarning: Precision and F-score are ill-defined and being set to 0.0 in labels with no predicted samples. Use `zero_division` parameter to control this behavior.\n",
      "  _warn_prf(average, modifier, msg_start, len(result))\n",
      "c:\\users\\votri\\appdata\\local\\programs\\python\\python38\\lib\\site-packages\\sklearn\\metrics\\_classification.py:1318: UndefinedMetricWarning: Precision and F-score are ill-defined and being set to 0.0 in labels with no predicted samples. Use `zero_division` parameter to control this behavior.\n",
      "  _warn_prf(average, modifier, msg_start, len(result))\n"
     ]
    },
    {
     "data": {
      "text/plain": [
       "<keras.engine.sequential.Sequential at 0x25468579d90>"
      ]
     },
     "execution_count": 6,
     "metadata": {},
     "output_type": "execute_result"
    }
   ],
   "source": [
    "path_train = '../traintestdata/swi_train.csv'\n",
    "path_test = '../traintestdata/swi_test.csv'\n",
    "CNN(path_train,path_test)"
   ]
  },
  {
   "cell_type": "markdown",
   "id": "d3164806",
   "metadata": {},
   "source": [
    "# Europe"
   ]
  },
  {
   "cell_type": "code",
   "execution_count": 7,
   "id": "709e58d6",
   "metadata": {
    "scrolled": true
   },
   "outputs": [
    {
     "name": "stdout",
     "output_type": "stream",
     "text": [
      "Epoch 1/10\n",
      "10/10 [==============================] - 1s 25ms/step - loss: 0.5603 - accuracy: 0.6907\n",
      "Epoch 2/10\n",
      "10/10 [==============================] - 0s 24ms/step - loss: 0.4161 - accuracy: 0.8282\n",
      "Epoch 3/10\n",
      "10/10 [==============================] - 0s 22ms/step - loss: 0.4410 - accuracy: 0.8041\n",
      "Epoch 4/10\n",
      "10/10 [==============================] - 0s 23ms/step - loss: 0.3721 - accuracy: 0.8282\n",
      "Epoch 5/10\n",
      "10/10 [==============================] - 0s 23ms/step - loss: 0.3583 - accuracy: 0.8385\n",
      "Epoch 6/10\n",
      "10/10 [==============================] - 0s 23ms/step - loss: 0.3487 - accuracy: 0.8316\n",
      "Epoch 7/10\n",
      "10/10 [==============================] - 0s 22ms/step - loss: 0.3513 - accuracy: 0.8454\n",
      "Epoch 8/10\n",
      "10/10 [==============================] - 0s 32ms/step - loss: 0.3350 - accuracy: 0.8522\n",
      "Epoch 9/10\n",
      "10/10 [==============================] - 0s 34ms/step - loss: 0.3350 - accuracy: 0.8660\n",
      "Epoch 10/10\n",
      "10/10 [==============================] - 0s 34ms/step - loss: 0.3163 - accuracy: 0.8522\n",
      "WARNING:tensorflow:5 out of the last 11 calls to <function Model.make_predict_function.<locals>.predict_function at 0x0000025468583F70> triggered tf.function retracing. Tracing is expensive and the excessive number of tracings could be due to (1) creating @tf.function repeatedly in a loop, (2) passing tensors with different shapes, (3) passing Python objects instead of tensors. For (1), please define your @tf.function outside of the loop. For (2), @tf.function has experimental_relax_shapes=True option that relaxes argument shapes that can avoid unnecessary retracing. For (3), please refer to https://www.tensorflow.org/guide/function#controlling_retracing and https://www.tensorflow.org/api_docs/python/tf/function for  more details.\n",
      "[[50  9]\n",
      " [ 9 58]]\n",
      "              precision    recall  f1-score   support\n",
      "\n",
      "           0       0.85      0.85      0.85        59\n",
      "           1       0.87      0.87      0.87        67\n",
      "\n",
      "    accuracy                           0.86       126\n",
      "   macro avg       0.86      0.86      0.86       126\n",
      "weighted avg       0.86      0.86      0.86       126\n",
      "\n"
     ]
    },
    {
     "data": {
      "text/plain": [
       "<keras.engine.sequential.Sequential at 0x25468bb2fa0>"
      ]
     },
     "execution_count": 7,
     "metadata": {},
     "output_type": "execute_result"
    }
   ],
   "source": [
    "path_train = '../traintestdata/euro_train.csv'\n",
    "path_test = '../traintestdata/euro_test.csv'\n",
    "CNN(path_train,path_test)"
   ]
  },
  {
   "cell_type": "markdown",
   "id": "a7bf0136",
   "metadata": {},
   "source": [
    "# Combined"
   ]
  },
  {
   "cell_type": "code",
   "execution_count": 8,
   "id": "fc9f6787",
   "metadata": {
    "scrolled": true
   },
   "outputs": [
    {
     "name": "stdout",
     "output_type": "stream",
     "text": [
      "Epoch 1/10\n",
      "21/21 [==============================] - 2s 35ms/step - loss: 0.6257 - accuracy: 0.6630\n",
      "Epoch 2/10\n",
      "21/21 [==============================] - 1s 37ms/step - loss: 0.5014 - accuracy: 0.7609\n",
      "Epoch 3/10\n",
      "21/21 [==============================] - 1s 35ms/step - loss: 0.4734 - accuracy: 0.7748\n",
      "Epoch 4/10\n",
      "21/21 [==============================] - 1s 27ms/step - loss: 0.4672 - accuracy: 0.7873\n",
      "Epoch 5/10\n",
      "21/21 [==============================] - 1s 26ms/step - loss: 0.4312 - accuracy: 0.7950\n",
      "Epoch 6/10\n",
      "21/21 [==============================] - 1s 27ms/step - loss: 0.4282 - accuracy: 0.8168\n",
      "Epoch 7/10\n",
      "21/21 [==============================] - 1s 34ms/step - loss: 0.4316 - accuracy: 0.8121\n",
      "Epoch 8/10\n",
      "21/21 [==============================] - 1s 24ms/step - loss: 0.4061 - accuracy: 0.8307\n",
      "Epoch 9/10\n",
      "21/21 [==============================] - 1s 28ms/step - loss: 0.4166 - accuracy: 0.8214\n",
      "Epoch 10/10\n",
      "21/21 [==============================] - 1s 32ms/step - loss: 0.3879 - accuracy: 0.8261\n",
      "WARNING:tensorflow:5 out of the last 12 calls to <function Model.make_predict_function.<locals>.predict_function at 0x000002546E10E430> triggered tf.function retracing. Tracing is expensive and the excessive number of tracings could be due to (1) creating @tf.function repeatedly in a loop, (2) passing tensors with different shapes, (3) passing Python objects instead of tensors. For (1), please define your @tf.function outside of the loop. For (2), @tf.function has experimental_relax_shapes=True option that relaxes argument shapes that can avoid unnecessary retracing. For (3), please refer to https://www.tensorflow.org/guide/function#controlling_retracing and https://www.tensorflow.org/api_docs/python/tf/function for  more details.\n",
      "[[100  20]\n",
      " [ 22 134]]\n",
      "              precision    recall  f1-score   support\n",
      "\n",
      "           0       0.83      0.82      0.83       122\n",
      "           1       0.86      0.87      0.86       154\n",
      "\n",
      "    accuracy                           0.85       276\n",
      "   macro avg       0.85      0.84      0.85       276\n",
      "weighted avg       0.85      0.85      0.85       276\n",
      "\n"
     ]
    },
    {
     "data": {
      "text/plain": [
       "<keras.engine.sequential.Sequential at 0x25468579d00>"
      ]
     },
     "execution_count": 8,
     "metadata": {},
     "output_type": "execute_result"
    }
   ],
   "source": [
    "path_train = '../traintestdata/com_train.csv'\n",
    "path_test = '../traintestdata/com_test.csv'\n",
    "CNN(path_train,path_test)"
   ]
  },
  {
   "cell_type": "code",
   "execution_count": 9,
   "id": "444dae5e",
   "metadata": {},
   "outputs": [],
   "source": [
    "path_train = '../traintestdata/euro_train.csv'\n",
    "path_test = '../traintestdata/euro_test.csv'"
   ]
  },
  {
   "cell_type": "code",
   "execution_count": 10,
   "id": "b5a6c03e",
   "metadata": {},
   "outputs": [
    {
     "data": {
      "text/plain": [
       "0      0\n",
       "1      1\n",
       "2      0\n",
       "3      0\n",
       "4      0\n",
       "      ..\n",
       "412    1\n",
       "413    1\n",
       "414    1\n",
       "415    1\n",
       "416    1\n",
       "Name: num, Length: 417, dtype: int64"
      ]
     },
     "execution_count": 10,
     "metadata": {},
     "output_type": "execute_result"
    }
   ],
   "source": [
    "Train = pd.read_csv(path_train)\n",
    "Test = pd.read_csv(path_test)\n",
    "    \n",
    "X_train = Train.iloc[:,:-1]\n",
    "Y_train = Train.iloc[:,-1]\n",
    "\n",
    "X_test = Test.iloc[:,:-1]\n",
    "Y_test = Test.iloc[:,-1]\n",
    "\n",
    "#binarize the target\n",
    "Y_train_binary = Y_train.apply(lambda x: 1 if x > 0 else 0)\n",
    "Y_test_binary = Y_test.apply(lambda x: 1 if x > 0 else 0)\n",
    "\n",
    "data = pd.concat([X_train,X_test])\n",
    "labels = pd.concat([Y_train_binary,Y_test_binary])\n",
    "\n",
    "data = data.reset_index()\n",
    "data = data.drop(['index'],axis = 1)\n",
    "\n",
    "labels = labels.reset_index()\n",
    "labels = labels.iloc[:,-1]\n",
    "\n",
    "labels"
   ]
  },
  {
   "cell_type": "code",
   "execution_count": 11,
   "id": "f7106e18",
   "metadata": {},
   "outputs": [
    {
     "name": "stdout",
     "output_type": "stream",
     "text": [
      "[[ 55  15]\n",
      " [141 206]]\n",
      "              precision    recall  f1-score   support\n",
      "\n",
      "           0       0.79      0.28      0.41       196\n",
      "           1       0.59      0.93      0.73       221\n",
      "\n",
      "    accuracy                           0.63       417\n",
      "   macro avg       0.69      0.61      0.57       417\n",
      "weighted avg       0.68      0.63      0.58       417\n",
      "\n"
     ]
    }
   ],
   "source": [
    "Y_pred = model.predict(data).argmax(axis=1)\n",
    "    \n",
    "cm = confusion_matrix(Y_pred, labels)\n",
    "print(cm)\n",
    "print(classification_report(labels, Y_pred))"
   ]
  },
  {
   "cell_type": "code",
   "execution_count": null,
   "id": "a16d8a0a",
   "metadata": {},
   "outputs": [],
   "source": []
  }
 ],
 "metadata": {
  "kernelspec": {
   "display_name": "Python 3 (ipykernel)",
   "language": "python",
   "name": "python3"
  },
  "language_info": {
   "codemirror_mode": {
    "name": "ipython",
    "version": 3
   },
   "file_extension": ".py",
   "mimetype": "text/x-python",
   "name": "python",
   "nbconvert_exporter": "python",
   "pygments_lexer": "ipython3",
   "version": "3.8.3"
  }
 },
 "nbformat": 4,
 "nbformat_minor": 5
}
