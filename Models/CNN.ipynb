{
 "cells": [
  {
   "cell_type": "code",
   "execution_count": 1,
   "id": "c773be18",
   "metadata": {},
   "outputs": [],
   "source": [
    "import numpy as np\n",
    "import pandas as pd\n",
    "from keras.models import Sequential\n",
    "from keras.layers import Conv1D, MaxPooling1D, Flatten, Dense, Dropout\n",
    "from sklearn.metrics import confusion_matrix, classification_report"
   ]
  },
  {
   "cell_type": "code",
   "execution_count": 2,
   "id": "9a9d0451",
   "metadata": {},
   "outputs": [],
   "source": [
    "def CNN(path_train,path_test):\n",
    "    #Split the data\n",
    "    Train = pd.read_csv(path_train)\n",
    "    Test = pd.read_csv(path_test)\n",
    "    \n",
    "    X_train = Train.iloc[:,:-1]\n",
    "    Y_train = Train.iloc[:,-1]\n",
    "\n",
    "    X_test = Test.iloc[:,:-1]\n",
    "    Y_test = Test.iloc[:,-1]\n",
    "\n",
    "    #binarize the target\n",
    "    Y_train_binary = Y_train.apply(lambda x: 1 if x > 0 else 0)\n",
    "    Y_test_binary = Y_test.apply(lambda x: 1 if x > 0 else 0)\n",
    "\n",
    "    # define the model architecture\n",
    "    model = Sequential()\n",
    "    model.add(Conv1D(filters=256, kernel_size=3, activation='relu', input_shape=(22,1)))\n",
    "    model.add(Conv1D(filters=256, kernel_size=3, activation='relu'))\n",
    "    model.add(MaxPooling1D(pool_size=2))\n",
    "\n",
    "    model.add(Conv1D(filters=512, kernel_size=3, activation='relu'))\n",
    "    model.add(MaxPooling1D(pool_size=2))\n",
    "\n",
    "    model.add(Flatten())\n",
    "    model.add(Dense(512, activation='relu'))\n",
    "    model.add(Dense(2, activation='sigmoid'))\n",
    "\n",
    "    model.compile(loss='sparse_categorical_crossentropy', optimizer='adam', metrics=['accuracy'])\n",
    "    \n",
    "    model.fit(X_train, Y_train_binary, epochs=10, batch_size=32)\n",
    "    Y_pred = model.predict(X_test).argmax(axis=1)\n",
    "    \n",
    "    cm = confusion_matrix(Y_pred, Y_test_binary)\n",
    "    print(cm)\n",
    "    print(classification_report(Y_test_binary, Y_pred))\n",
    "    return model"
   ]
  },
  {
   "cell_type": "markdown",
   "id": "011932f6",
   "metadata": {},
   "source": [
    "# Cleveland"
   ]
  },
  {
   "cell_type": "code",
   "execution_count": 3,
   "id": "87e10642",
   "metadata": {
    "scrolled": true
   },
   "outputs": [
    {
     "name": "stdout",
     "output_type": "stream",
     "text": [
      "Epoch 1/10\n",
      "7/7 [==============================] - 2s 35ms/step - loss: 0.6428 - accuracy: 0.6132\n",
      "Epoch 2/10\n",
      "7/7 [==============================] - 0s 33ms/step - loss: 0.5864 - accuracy: 0.6981\n",
      "Epoch 3/10\n",
      "7/7 [==============================] - 0s 34ms/step - loss: 0.4864 - accuracy: 0.7547\n",
      "Epoch 4/10\n",
      "7/7 [==============================] - 0s 34ms/step - loss: 0.4794 - accuracy: 0.7689\n",
      "Epoch 5/10\n",
      "7/7 [==============================] - 0s 34ms/step - loss: 0.4356 - accuracy: 0.8113\n",
      "Epoch 6/10\n",
      "7/7 [==============================] - 0s 33ms/step - loss: 0.4279 - accuracy: 0.8113\n",
      "Epoch 7/10\n",
      "7/7 [==============================] - 0s 33ms/step - loss: 0.4148 - accuracy: 0.8066\n",
      "Epoch 8/10\n",
      "7/7 [==============================] - 0s 32ms/step - loss: 0.3979 - accuracy: 0.8208\n",
      "Epoch 9/10\n",
      "7/7 [==============================] - 0s 34ms/step - loss: 0.4012 - accuracy: 0.8208\n",
      "Epoch 10/10\n",
      "7/7 [==============================] - 0s 31ms/step - loss: 0.3826 - accuracy: 0.8160\n",
      "[[42  6]\n",
      " [ 9 34]]\n",
      "              precision    recall  f1-score   support\n",
      "\n",
      "           0       0.88      0.82      0.85        51\n",
      "           1       0.79      0.85      0.82        40\n",
      "\n",
      "    accuracy                           0.84        91\n",
      "   macro avg       0.83      0.84      0.83        91\n",
      "weighted avg       0.84      0.84      0.84        91\n",
      "\n"
     ]
    }
   ],
   "source": [
    "path_train = '../traintestdata/cle_train.csv'\n",
    "path_test = '../traintestdata/cle_test.csv'\n",
    "model = CNN(path_train,path_test)"
   ]
  },
  {
   "cell_type": "markdown",
   "id": "a6188e68",
   "metadata": {},
   "source": [
    "# Virginia"
   ]
  },
  {
   "cell_type": "code",
   "execution_count": 4,
   "id": "8b19b95f",
   "metadata": {
    "scrolled": true
   },
   "outputs": [
    {
     "name": "stdout",
     "output_type": "stream",
     "text": [
      "Epoch 1/10\n",
      "5/5 [==============================] - 1s 32ms/step - loss: 0.6151 - accuracy: 0.7286\n",
      "Epoch 2/10\n",
      "5/5 [==============================] - 0s 30ms/step - loss: 0.6403 - accuracy: 0.7286\n",
      "Epoch 3/10\n",
      "5/5 [==============================] - 0s 30ms/step - loss: 0.5874 - accuracy: 0.7286\n",
      "Epoch 4/10\n",
      "5/5 [==============================] - 0s 31ms/step - loss: 0.5656 - accuracy: 0.7286\n",
      "Epoch 5/10\n",
      "5/5 [==============================] - 0s 31ms/step - loss: 0.5448 - accuracy: 0.7286\n",
      "Epoch 6/10\n",
      "5/5 [==============================] - 0s 29ms/step - loss: 0.5372 - accuracy: 0.7286\n",
      "Epoch 7/10\n",
      "5/5 [==============================] - 0s 30ms/step - loss: 0.5259 - accuracy: 0.7286\n",
      "Epoch 8/10\n",
      "5/5 [==============================] - 0s 31ms/step - loss: 0.5067 - accuracy: 0.7357\n",
      "Epoch 9/10\n",
      "5/5 [==============================] - 0s 29ms/step - loss: 0.4979 - accuracy: 0.8000\n",
      "Epoch 10/10\n",
      "5/5 [==============================] - 0s 31ms/step - loss: 0.5184 - accuracy: 0.7357\n",
      "[[ 2  1]\n",
      " [11 46]]\n",
      "              precision    recall  f1-score   support\n",
      "\n",
      "           0       0.67      0.15      0.25        13\n",
      "           1       0.81      0.98      0.88        47\n",
      "\n",
      "    accuracy                           0.80        60\n",
      "   macro avg       0.74      0.57      0.57        60\n",
      "weighted avg       0.78      0.80      0.75        60\n",
      "\n"
     ]
    },
    {
     "data": {
      "text/plain": [
       "<keras.engine.sequential.Sequential at 0x1969920cfd0>"
      ]
     },
     "execution_count": 4,
     "metadata": {},
     "output_type": "execute_result"
    }
   ],
   "source": [
    "path_train = '../traintestdata/vir_train.csv'\n",
    "path_test = '../traintestdata/vir_test.csv'\n",
    "CNN(path_train,path_test)"
   ]
  },
  {
   "cell_type": "markdown",
   "id": "d3164806",
   "metadata": {},
   "source": [
    "# Europe"
   ]
  },
  {
   "cell_type": "code",
   "execution_count": 5,
   "id": "709e58d6",
   "metadata": {
    "scrolled": true
   },
   "outputs": [
    {
     "name": "stdout",
     "output_type": "stream",
     "text": [
      "Epoch 1/10\n",
      "10/10 [==============================] - 1s 31ms/step - loss: 0.5859 - accuracy: 0.7079\n",
      "Epoch 2/10\n",
      "10/10 [==============================] - 0s 32ms/step - loss: 0.4282 - accuracy: 0.8041\n",
      "Epoch 3/10\n",
      "10/10 [==============================] - 0s 31ms/step - loss: 0.4119 - accuracy: 0.8385\n",
      "Epoch 4/10\n",
      "10/10 [==============================] - 0s 31ms/step - loss: 0.4820 - accuracy: 0.8007\n",
      "Epoch 5/10\n",
      "10/10 [==============================] - 0s 30ms/step - loss: 0.4057 - accuracy: 0.8247\n",
      "Epoch 6/10\n",
      "10/10 [==============================] - 0s 31ms/step - loss: 0.3451 - accuracy: 0.8488\n",
      "Epoch 7/10\n",
      "10/10 [==============================] - 0s 31ms/step - loss: 0.3456 - accuracy: 0.8419\n",
      "Epoch 8/10\n",
      "10/10 [==============================] - 0s 40ms/step - loss: 0.3272 - accuracy: 0.8522\n",
      "Epoch 9/10\n",
      "10/10 [==============================] - 0s 29ms/step - loss: 0.3404 - accuracy: 0.8591\n",
      "Epoch 10/10\n",
      "10/10 [==============================] - 0s 28ms/step - loss: 0.3552 - accuracy: 0.8385\n",
      "[[48  9]\n",
      " [11 58]]\n",
      "              precision    recall  f1-score   support\n",
      "\n",
      "           0       0.84      0.81      0.83        59\n",
      "           1       0.84      0.87      0.85        67\n",
      "\n",
      "    accuracy                           0.84       126\n",
      "   macro avg       0.84      0.84      0.84       126\n",
      "weighted avg       0.84      0.84      0.84       126\n",
      "\n"
     ]
    },
    {
     "data": {
      "text/plain": [
       "<keras.engine.sequential.Sequential at 0x196c0a09cd0>"
      ]
     },
     "execution_count": 5,
     "metadata": {},
     "output_type": "execute_result"
    }
   ],
   "source": [
    "path_train = '../traintestdata/euro_train.csv'\n",
    "path_test = '../traintestdata/euro_test.csv'\n",
    "CNN(path_train,path_test)"
   ]
  },
  {
   "cell_type": "markdown",
   "id": "a7bf0136",
   "metadata": {},
   "source": [
    "# Combined"
   ]
  },
  {
   "cell_type": "code",
   "execution_count": 6,
   "id": "fc9f6787",
   "metadata": {
    "scrolled": true
   },
   "outputs": [
    {
     "name": "stdout",
     "output_type": "stream",
     "text": [
      "Epoch 1/10\n",
      "21/21 [==============================] - 2s 31ms/step - loss: 0.6165 - accuracy: 0.6429\n",
      "Epoch 2/10\n",
      "21/21 [==============================] - 1s 32ms/step - loss: 0.4819 - accuracy: 0.7717\n",
      "Epoch 3/10\n",
      "21/21 [==============================] - 1s 32ms/step - loss: 0.4545 - accuracy: 0.7811\n",
      "Epoch 4/10\n",
      "21/21 [==============================] - 1s 32ms/step - loss: 0.4425 - accuracy: 0.8106\n",
      "Epoch 5/10\n",
      "21/21 [==============================] - 1s 32ms/step - loss: 0.4172 - accuracy: 0.8152\n",
      "Epoch 6/10\n",
      "21/21 [==============================] - 1s 32ms/step - loss: 0.4138 - accuracy: 0.8307\n",
      "Epoch 7/10\n",
      "21/21 [==============================] - 1s 32ms/step - loss: 0.4197 - accuracy: 0.8106\n",
      "Epoch 8/10\n",
      "21/21 [==============================] - 1s 32ms/step - loss: 0.4176 - accuracy: 0.8168\n",
      "Epoch 9/10\n",
      "21/21 [==============================] - 1s 32ms/step - loss: 0.3918 - accuracy: 0.8276\n",
      "Epoch 10/10\n",
      "21/21 [==============================] - 1s 32ms/step - loss: 0.4004 - accuracy: 0.8214\n",
      "[[ 94  12]\n",
      " [ 28 142]]\n",
      "              precision    recall  f1-score   support\n",
      "\n",
      "           0       0.89      0.77      0.82       122\n",
      "           1       0.84      0.92      0.88       154\n",
      "\n",
      "    accuracy                           0.86       276\n",
      "   macro avg       0.86      0.85      0.85       276\n",
      "weighted avg       0.86      0.86      0.85       276\n",
      "\n"
     ]
    },
    {
     "data": {
      "text/plain": [
       "<keras.engine.sequential.Sequential at 0x196c0a17eb0>"
      ]
     },
     "execution_count": 6,
     "metadata": {},
     "output_type": "execute_result"
    }
   ],
   "source": [
    "path_train = '../traintestdata/com_train.csv'\n",
    "path_test = '../traintestdata/com_test.csv'\n",
    "CNN(path_train,path_test)"
   ]
  },
  {
   "cell_type": "code",
   "execution_count": 7,
   "id": "444dae5e",
   "metadata": {},
   "outputs": [],
   "source": [
    "path_train = '../traintestdata/euro_train.csv'\n",
    "path_test = '../traintestdata/euro_test.csv'"
   ]
  },
  {
   "cell_type": "code",
   "execution_count": 8,
   "id": "b5a6c03e",
   "metadata": {},
   "outputs": [
    {
     "data": {
      "text/plain": [
       "0      0\n",
       "1      1\n",
       "2      0\n",
       "3      0\n",
       "4      0\n",
       "      ..\n",
       "412    1\n",
       "413    1\n",
       "414    1\n",
       "415    1\n",
       "416    1\n",
       "Name: num, Length: 417, dtype: int64"
      ]
     },
     "execution_count": 8,
     "metadata": {},
     "output_type": "execute_result"
    }
   ],
   "source": [
    "Train = pd.read_csv(path_train)\n",
    "Test = pd.read_csv(path_test)\n",
    "    \n",
    "X_train = Train.iloc[:,:-1]\n",
    "Y_train = Train.iloc[:,-1]\n",
    "\n",
    "X_test = Test.iloc[:,:-1]\n",
    "Y_test = Test.iloc[:,-1]\n",
    "\n",
    "#binarize the target\n",
    "Y_train_binary = Y_train.apply(lambda x: 1 if x > 0 else 0)\n",
    "Y_test_binary = Y_test.apply(lambda x: 1 if x > 0 else 0)\n",
    "\n",
    "data = pd.concat([X_train,X_test])\n",
    "labels = pd.concat([Y_train_binary,Y_test_binary])\n",
    "\n",
    "data = data.reset_index()\n",
    "data = data.drop(['index'],axis = 1)\n",
    "\n",
    "labels = labels.reset_index()\n",
    "labels = labels.iloc[:,-1]\n",
    "\n",
    "labels"
   ]
  },
  {
   "cell_type": "code",
   "execution_count": 9,
   "id": "f7106e18",
   "metadata": {},
   "outputs": [
    {
     "name": "stdout",
     "output_type": "stream",
     "text": [
      "[[ 64  25]\n",
      " [132 196]]\n",
      "              precision    recall  f1-score   support\n",
      "\n",
      "           0       0.72      0.33      0.45       196\n",
      "           1       0.60      0.89      0.71       221\n",
      "\n",
      "    accuracy                           0.62       417\n",
      "   macro avg       0.66      0.61      0.58       417\n",
      "weighted avg       0.65      0.62      0.59       417\n",
      "\n"
     ]
    }
   ],
   "source": [
    "Y_pred = model.predict(data).argmax(axis=1)\n",
    "    \n",
    "cm = confusion_matrix(Y_pred, labels)\n",
    "print(cm)\n",
    "print(classification_report(labels, Y_pred))"
   ]
  },
  {
   "cell_type": "code",
   "execution_count": null,
   "id": "a16d8a0a",
   "metadata": {},
   "outputs": [],
   "source": []
  }
 ],
 "metadata": {
  "kernelspec": {
   "display_name": "Python 3 (ipykernel)",
   "language": "python",
   "name": "python3"
  },
  "language_info": {
   "codemirror_mode": {
    "name": "ipython",
    "version": 3
   },
   "file_extension": ".py",
   "mimetype": "text/x-python",
   "name": "python",
   "nbconvert_exporter": "python",
   "pygments_lexer": "ipython3",
   "version": "3.8.3"
  }
 },
 "nbformat": 4,
 "nbformat_minor": 5
}
