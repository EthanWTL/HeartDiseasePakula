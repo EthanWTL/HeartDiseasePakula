{
 "cells": [
  {
   "cell_type": "code",
   "execution_count": 1,
   "id": "c773be18",
   "metadata": {},
   "outputs": [],
   "source": [
    "import numpy as np\n",
    "import pandas as pd\n",
    "from keras.models import Sequential\n",
    "from keras.layers import Conv1D, MaxPooling1D, Flatten, Dense, Dropout\n",
    "from sklearn.metrics import confusion_matrix, classification_report"
   ]
  },
  {
   "cell_type": "code",
   "execution_count": 2,
   "id": "9a9d0451",
   "metadata": {},
   "outputs": [],
   "source": [
    "def CNN(path_train,path_test):\n",
    "    #Split the data\n",
    "    Train = pd.read_csv(path_train)\n",
    "    Test = pd.read_csv(path_test)\n",
    "    \n",
    "    X_train = Train.iloc[:,:-1]\n",
    "    Y_train = Train.iloc[:,-1]\n",
    "\n",
    "    X_test = Test.iloc[:,:-1]\n",
    "    Y_test = Test.iloc[:,-1]\n",
    "\n",
    "    #binarize the target\n",
    "    Y_train_binary = Y_train.apply(lambda x: 1 if x > 0 else 0)\n",
    "    Y_test_binary = Y_test.apply(lambda x: 1 if x > 0 else 0)\n",
    "\n",
    "    # define the model architecture\n",
    "    model = Sequential()\n",
    "    model.add(Conv1D(filters=256, kernel_size=3, activation='relu', input_shape=(22,1)))\n",
    "    model.add(Conv1D(filters=256, kernel_size=3, activation='relu'))\n",
    "    model.add(MaxPooling1D(pool_size=2))\n",
    "\n",
    "    model.add(Conv1D(filters=512, kernel_size=3, activation='relu'))\n",
    "    model.add(MaxPooling1D(pool_size=2))\n",
    "\n",
    "    model.add(Flatten())\n",
    "    model.add(Dense(512, activation='relu'))\n",
    "    model.add(Dense(7, activation='softmax'))\n",
    "\n",
    "    model.compile(loss='sparse_categorical_crossentropy', optimizer='adam', metrics=['accuracy'])\n",
    "    \n",
    "    model.fit(X_train, Y_train_binary, epochs=10, batch_size=32)\n",
    "    Y_pred = model.predict(X_test).argmax(axis=1)\n",
    "    \n",
    "    cm = confusion_matrix(Y_pred, Y_test_binary)\n",
    "    print(cm)\n",
    "    print(classification_report(Y_test_binary, Y_pred))"
   ]
  },
  {
   "cell_type": "markdown",
   "id": "011932f6",
   "metadata": {},
   "source": [
    "# Cleveland"
   ]
  },
  {
   "cell_type": "code",
   "execution_count": 3,
   "id": "87e10642",
   "metadata": {
    "scrolled": true
   },
   "outputs": [
    {
     "name": "stdout",
     "output_type": "stream",
     "text": [
      "Epoch 1/10\n",
      "7/7 [==============================] - 1s 26ms/step - loss: 1.1565 - accuracy: 0.4198\n",
      "Epoch 2/10\n",
      "7/7 [==============================] - 0s 31ms/step - loss: 0.6563 - accuracy: 0.6226\n",
      "Epoch 3/10\n",
      "7/7 [==============================] - 0s 23ms/step - loss: 0.6794 - accuracy: 0.6368\n",
      "Epoch 4/10\n",
      "7/7 [==============================] - 0s 20ms/step - loss: 0.5181 - accuracy: 0.7594\n",
      "Epoch 5/10\n",
      "7/7 [==============================] - 0s 21ms/step - loss: 0.4809 - accuracy: 0.7500\n",
      "Epoch 6/10\n",
      "7/7 [==============================] - 0s 21ms/step - loss: 0.4351 - accuracy: 0.8113\n",
      "Epoch 7/10\n",
      "7/7 [==============================] - 0s 22ms/step - loss: 0.4409 - accuracy: 0.7925\n",
      "Epoch 8/10\n",
      "7/7 [==============================] - 0s 22ms/step - loss: 0.4251 - accuracy: 0.8066\n",
      "Epoch 9/10\n",
      "7/7 [==============================] - 0s 25ms/step - loss: 0.4230 - accuracy: 0.8066\n",
      "Epoch 10/10\n",
      "7/7 [==============================] - 0s 26ms/step - loss: 0.4278 - accuracy: 0.7830\n",
      "[[35  3]\n",
      " [16 37]]\n",
      "              precision    recall  f1-score   support\n",
      "\n",
      "           0       0.92      0.69      0.79        51\n",
      "           1       0.70      0.93      0.80        40\n",
      "\n",
      "    accuracy                           0.79        91\n",
      "   macro avg       0.81      0.81      0.79        91\n",
      "weighted avg       0.82      0.79      0.79        91\n",
      "\n"
     ]
    }
   ],
   "source": [
    "path_train = '../traintestdata/cle_train.csv'\n",
    "path_test = '../traintestdata/cle_test.csv'\n",
    "CNN(path_train,path_test)"
   ]
  },
  {
   "cell_type": "markdown",
   "id": "a6188e68",
   "metadata": {},
   "source": [
    "# Virginia"
   ]
  },
  {
   "cell_type": "code",
   "execution_count": 4,
   "id": "8b19b95f",
   "metadata": {
    "scrolled": true
   },
   "outputs": [
    {
     "name": "stdout",
     "output_type": "stream",
     "text": [
      "Epoch 1/10\n",
      "5/5 [==============================] - 1s 23ms/step - loss: 1.5135 - accuracy: 0.5286\n",
      "Epoch 2/10\n",
      "5/5 [==============================] - 0s 23ms/step - loss: 0.6122 - accuracy: 0.7286\n",
      "Epoch 3/10\n",
      "5/5 [==============================] - 0s 21ms/step - loss: 0.6442 - accuracy: 0.7286\n",
      "Epoch 4/10\n",
      "5/5 [==============================] - 0s 22ms/step - loss: 0.6120 - accuracy: 0.7143\n",
      "Epoch 5/10\n",
      "5/5 [==============================] - 0s 21ms/step - loss: 0.5545 - accuracy: 0.7286\n",
      "Epoch 6/10\n",
      "5/5 [==============================] - 0s 23ms/step - loss: 0.5570 - accuracy: 0.7286\n",
      "Epoch 7/10\n",
      "5/5 [==============================] - 0s 25ms/step - loss: 0.5458 - accuracy: 0.7286\n",
      "Epoch 8/10\n",
      "5/5 [==============================] - 0s 25ms/step - loss: 0.5574 - accuracy: 0.7286\n",
      "Epoch 9/10\n",
      "5/5 [==============================] - 0s 25ms/step - loss: 0.5404 - accuracy: 0.7357\n",
      "Epoch 10/10\n",
      "5/5 [==============================] - 0s 23ms/step - loss: 0.5359 - accuracy: 0.7286\n",
      "[[ 0  0]\n",
      " [13 47]]\n",
      "              precision    recall  f1-score   support\n",
      "\n",
      "           0       0.00      0.00      0.00        13\n",
      "           1       0.78      1.00      0.88        47\n",
      "\n",
      "    accuracy                           0.78        60\n",
      "   macro avg       0.39      0.50      0.44        60\n",
      "weighted avg       0.61      0.78      0.69        60\n",
      "\n"
     ]
    },
    {
     "name": "stderr",
     "output_type": "stream",
     "text": [
      "c:\\users\\votri\\appdata\\local\\programs\\python\\python38\\lib\\site-packages\\sklearn\\metrics\\_classification.py:1318: UndefinedMetricWarning: Precision and F-score are ill-defined and being set to 0.0 in labels with no predicted samples. Use `zero_division` parameter to control this behavior.\n",
      "  _warn_prf(average, modifier, msg_start, len(result))\n",
      "c:\\users\\votri\\appdata\\local\\programs\\python\\python38\\lib\\site-packages\\sklearn\\metrics\\_classification.py:1318: UndefinedMetricWarning: Precision and F-score are ill-defined and being set to 0.0 in labels with no predicted samples. Use `zero_division` parameter to control this behavior.\n",
      "  _warn_prf(average, modifier, msg_start, len(result))\n",
      "c:\\users\\votri\\appdata\\local\\programs\\python\\python38\\lib\\site-packages\\sklearn\\metrics\\_classification.py:1318: UndefinedMetricWarning: Precision and F-score are ill-defined and being set to 0.0 in labels with no predicted samples. Use `zero_division` parameter to control this behavior.\n",
      "  _warn_prf(average, modifier, msg_start, len(result))\n"
     ]
    }
   ],
   "source": [
    "path_train = '../traintestdata/vir_train.csv'\n",
    "path_test = '../traintestdata/vir_test.csv'\n",
    "CNN(path_train,path_test)"
   ]
  },
  {
   "cell_type": "markdown",
   "id": "d3164806",
   "metadata": {},
   "source": [
    "# Europe"
   ]
  },
  {
   "cell_type": "code",
   "execution_count": 5,
   "id": "709e58d6",
   "metadata": {
    "scrolled": true
   },
   "outputs": [
    {
     "name": "stdout",
     "output_type": "stream",
     "text": [
      "Epoch 1/10\n",
      "10/10 [==============================] - 1s 20ms/step - loss: 1.0384 - accuracy: 0.5223\n",
      "Epoch 2/10\n",
      "10/10 [==============================] - 0s 20ms/step - loss: 0.5186 - accuracy: 0.7526\n",
      "Epoch 3/10\n",
      "10/10 [==============================] - 0s 20ms/step - loss: 0.5313 - accuracy: 0.7629\n",
      "Epoch 4/10\n",
      "10/10 [==============================] - 0s 20ms/step - loss: 0.4328 - accuracy: 0.7766\n",
      "Epoch 5/10\n",
      "10/10 [==============================] - 0s 23ms/step - loss: 0.4043 - accuracy: 0.8179\n",
      "Epoch 6/10\n",
      "10/10 [==============================] - 0s 21ms/step - loss: 0.3905 - accuracy: 0.8316\n",
      "Epoch 7/10\n",
      "10/10 [==============================] - 0s 21ms/step - loss: 0.3719 - accuracy: 0.8316\n",
      "Epoch 8/10\n",
      "10/10 [==============================] - 0s 23ms/step - loss: 0.3645 - accuracy: 0.8385\n",
      "Epoch 9/10\n",
      "10/10 [==============================] - 0s 23ms/step - loss: 0.3539 - accuracy: 0.8522\n",
      "Epoch 10/10\n",
      "10/10 [==============================] - 0s 26ms/step - loss: 0.3357 - accuracy: 0.8419\n",
      "[[48  6]\n",
      " [11 61]]\n",
      "              precision    recall  f1-score   support\n",
      "\n",
      "           0       0.89      0.81      0.85        59\n",
      "           1       0.85      0.91      0.88        67\n",
      "\n",
      "    accuracy                           0.87       126\n",
      "   macro avg       0.87      0.86      0.86       126\n",
      "weighted avg       0.87      0.87      0.86       126\n",
      "\n"
     ]
    }
   ],
   "source": [
    "path_train = '../traintestdata/euro_train.csv'\n",
    "path_test = '../traintestdata/euro_test.csv'\n",
    "CNN(path_train,path_test)"
   ]
  },
  {
   "cell_type": "markdown",
   "id": "a7bf0136",
   "metadata": {},
   "source": [
    "# Combined"
   ]
  },
  {
   "cell_type": "code",
   "execution_count": 6,
   "id": "fc9f6787",
   "metadata": {
    "scrolled": true
   },
   "outputs": [
    {
     "name": "stdout",
     "output_type": "stream",
     "text": [
      "Epoch 1/10\n",
      "21/21 [==============================] - 1s 22ms/step - loss: 0.9234 - accuracy: 0.5202\n",
      "Epoch 2/10\n",
      "21/21 [==============================] - 0s 21ms/step - loss: 0.5885 - accuracy: 0.7096\n",
      "Epoch 3/10\n",
      "21/21 [==============================] - 0s 21ms/step - loss: 0.4718 - accuracy: 0.7655\n",
      "Epoch 4/10\n",
      "21/21 [==============================] - 0s 23ms/step - loss: 0.4920 - accuracy: 0.7655\n",
      "Epoch 5/10\n",
      "21/21 [==============================] - 1s 24ms/step - loss: 0.4571 - accuracy: 0.7935\n",
      "Epoch 6/10\n",
      "21/21 [==============================] - 0s 23ms/step - loss: 0.4630 - accuracy: 0.7811\n",
      "Epoch 7/10\n",
      "21/21 [==============================] - 0s 21ms/step - loss: 0.4333 - accuracy: 0.8152\n",
      "Epoch 8/10\n",
      "21/21 [==============================] - 0s 21ms/step - loss: 0.4401 - accuracy: 0.8043\n",
      "Epoch 9/10\n",
      "21/21 [==============================] - 0s 22ms/step - loss: 0.4547 - accuracy: 0.7966\n",
      "Epoch 10/10\n",
      "21/21 [==============================] - 0s 22ms/step - loss: 0.4124 - accuracy: 0.8230\n",
      "[[ 99  21]\n",
      " [ 23 133]]\n",
      "              precision    recall  f1-score   support\n",
      "\n",
      "           0       0.82      0.81      0.82       122\n",
      "           1       0.85      0.86      0.86       154\n",
      "\n",
      "    accuracy                           0.84       276\n",
      "   macro avg       0.84      0.84      0.84       276\n",
      "weighted avg       0.84      0.84      0.84       276\n",
      "\n"
     ]
    }
   ],
   "source": [
    "path_train = '../traintestdata/com_train.csv'\n",
    "path_test = '../traintestdata/com_test.csv'\n",
    "CNN(path_train,path_test)"
   ]
  }
 ],
 "metadata": {
  "kernelspec": {
   "display_name": "Python 3 (ipykernel)",
   "language": "python",
   "name": "python3"
  },
  "language_info": {
   "codemirror_mode": {
    "name": "ipython",
    "version": 3
   },
   "file_extension": ".py",
   "mimetype": "text/x-python",
   "name": "python",
   "nbconvert_exporter": "python",
   "pygments_lexer": "ipython3",
   "version": "3.8.3"
  }
 },
 "nbformat": 4,
 "nbformat_minor": 5
}
